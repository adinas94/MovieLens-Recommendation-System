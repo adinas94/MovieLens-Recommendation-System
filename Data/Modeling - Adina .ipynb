{
 "cells": [
  {
   "cell_type": "markdown",
   "metadata": {},
   "source": [
    "## Movie Recommendation System Models"
   ]
  },
  {
   "cell_type": "code",
   "execution_count": 1,
   "metadata": {},
   "outputs": [],
   "source": [
    "#Import necessary libraries\n",
    "import numpy as np\n",
    "import pandas as pd\n",
    "from surprise import SVD\n",
    "from surprise.prediction_algorithms import KNNWithMeans, KNNBasic, KNNBaseline\n",
    "from surprise import Dataset, Reader\n",
    "from surprise import accuracy\n",
    "from surprise.model_selection import cross_validate, train_test_split, GridSearchCV\n"
   ]
  },
  {
   "cell_type": "code",
   "execution_count": 2,
   "metadata": {
    "scrolled": true
   },
   "outputs": [
    {
     "name": "stderr",
     "output_type": "stream",
     "text": [
      "/Users/adinasteinman/opt/anaconda3/envs/learn-env/lib/python3.6/site-packages/IPython/core/interactiveshell.py:2714: DtypeWarning: Columns (6) have mixed types. Specify dtype option on import or set low_memory=False.\n",
      "  interactivity=interactivity, compiler=compiler, result=result)\n"
     ]
    }
   ],
   "source": [
    "#Import data into a DataFrame and drop unnecessary columns \n",
    "df = pd.read_csv('cleaneddata', index_col=False)\n",
    "df2 = df[['userId', 'movieId', 'rating']]"
   ]
  },
  {
   "cell_type": "code",
   "execution_count": 3,
   "metadata": {},
   "outputs": [
    {
     "data": {
      "text/html": [
       "<div>\n",
       "<style scoped>\n",
       "    .dataframe tbody tr th:only-of-type {\n",
       "        vertical-align: middle;\n",
       "    }\n",
       "\n",
       "    .dataframe tbody tr th {\n",
       "        vertical-align: top;\n",
       "    }\n",
       "\n",
       "    .dataframe thead th {\n",
       "        text-align: right;\n",
       "    }\n",
       "</style>\n",
       "<table border=\"1\" class=\"dataframe\">\n",
       "  <thead>\n",
       "    <tr style=\"text-align: right;\">\n",
       "      <th></th>\n",
       "      <th>userId</th>\n",
       "      <th>movieId</th>\n",
       "      <th>rating</th>\n",
       "    </tr>\n",
       "  </thead>\n",
       "  <tbody>\n",
       "    <tr>\n",
       "      <th>0</th>\n",
       "      <td>1</td>\n",
       "      <td>1</td>\n",
       "      <td>4.0</td>\n",
       "    </tr>\n",
       "    <tr>\n",
       "      <th>1</th>\n",
       "      <td>1</td>\n",
       "      <td>3</td>\n",
       "      <td>4.0</td>\n",
       "    </tr>\n",
       "    <tr>\n",
       "      <th>2</th>\n",
       "      <td>1</td>\n",
       "      <td>6</td>\n",
       "      <td>4.0</td>\n",
       "    </tr>\n",
       "    <tr>\n",
       "      <th>3</th>\n",
       "      <td>1</td>\n",
       "      <td>47</td>\n",
       "      <td>5.0</td>\n",
       "    </tr>\n",
       "    <tr>\n",
       "      <th>4</th>\n",
       "      <td>1</td>\n",
       "      <td>50</td>\n",
       "      <td>5.0</td>\n",
       "    </tr>\n",
       "  </tbody>\n",
       "</table>\n",
       "</div>"
      ],
      "text/plain": [
       "   userId  movieId  rating\n",
       "0       1        1     4.0\n",
       "1       1        3     4.0\n",
       "2       1        6     4.0\n",
       "3       1       47     5.0\n",
       "4       1       50     5.0"
      ]
     },
     "execution_count": 3,
     "metadata": {},
     "output_type": "execute_result"
    }
   ],
   "source": [
    "df2.head()"
   ]
  },
  {
   "cell_type": "code",
   "execution_count": 7,
   "metadata": {},
   "outputs": [
    {
     "data": {
      "text/plain": [
       "0.9829821819213007"
      ]
     },
     "execution_count": 7,
     "metadata": {},
     "output_type": "execute_result"
    }
   ],
   "source": [
    "#Check sparsity of matrix\n",
    "numratings = len(df2['rating'])\n",
    "numusers = len(df2['userId'].unique())\n",
    "numitems = len(df2['movieId'].unique())\n",
    "\n",
    "sparse = 1 - (numratings / (numusers*numitems))\n",
    "sparse"
   ]
  },
  {
   "cell_type": "markdown",
   "metadata": {},
   "source": [
    "Our matrix is very sparse, which could negatively impact our model results. In order to improve this issue, we will remove any users that have rated less than 200 movies. "
   ]
  },
  {
   "cell_type": "code",
   "execution_count": 4,
   "metadata": {},
   "outputs": [
    {
     "name": "stdout",
     "output_type": "stream",
     "text": [
      "<class 'pandas.core.frame.DataFrame'>\n",
      "Int64Index: 47232 entries, 0 to 100817\n",
      "Data columns (total 3 columns):\n",
      "userId     47232 non-null int64\n",
      "movieId    47232 non-null int64\n",
      "rating     47232 non-null float64\n",
      "dtypes: float64(1), int64(2)\n",
      "memory usage: 1.4 MB\n"
     ]
    }
   ],
   "source": [
    "#Remove users who have rated less than 200 movies\n",
    "df3 = df2.groupby('userId').filter(lambda x : len(x)>200)\n",
    "df4 = df3.groupby('movieId').filter(lambda x : len(x)>10)\n",
    "df.to_csv('d4')\n",
    "df4.info()"
   ]
  },
  {
   "cell_type": "code",
   "execution_count": 6,
   "metadata": {},
   "outputs": [
    {
     "data": {
      "text/plain": [
       "0.7931695867508024"
      ]
     },
     "execution_count": 6,
     "metadata": {},
     "output_type": "execute_result"
    }
   ],
   "source": [
    "#Check sparsity of new matrix\n",
    "numratings = len(df4['rating'])\n",
    "numusers = len(df4['userId'].unique())\n",
    "numitems = len(df4['movieId'].unique())\n",
    "\n",
    "sparse = 1 - (numratings / (numusers*numitems))\n",
    "sparse"
   ]
  },
  {
   "cell_type": "markdown",
   "metadata": {},
   "source": [
    "This result looks pretty good; our resulting matrix is much less sparse, and is less than 95%, so we hope to see improvements in our SVD models. Let's begin modeling and investigate our results."
   ]
  },
  {
   "cell_type": "code",
   "execution_count": 7,
   "metadata": {
    "scrolled": true
   },
   "outputs": [
    {
     "data": {
      "text/plain": [
       "4.0    12991\n",
       "3.0     9065\n",
       "3.5     6970\n",
       "5.0     5598\n",
       "4.5     4265\n",
       "2.0     3239\n",
       "2.5     2911\n",
       "1.0     1030\n",
       "1.5      716\n",
       "0.5      447\n",
       "Name: rating, dtype: int64"
      ]
     },
     "execution_count": 7,
     "metadata": {},
     "output_type": "execute_result"
    }
   ],
   "source": [
    "#Look at the distribution of ratings again \n",
    "df4.rating.value_counts()"
   ]
  },
  {
   "cell_type": "code",
   "execution_count": 8,
   "metadata": {},
   "outputs": [],
   "source": [
    "#Instansiate reader and data \n",
    "reader = Reader(rating_scale=(0, 5))\n",
    "data = Dataset.load_from_df(df4, reader) "
   ]
  },
  {
   "cell_type": "code",
   "execution_count": 9,
   "metadata": {},
   "outputs": [],
   "source": [
    "#Train test split \n",
    "trainset, testset = train_test_split(data, test_size=.2)"
   ]
  },
  {
   "cell_type": "code",
   "execution_count": 10,
   "metadata": {
    "scrolled": false
   },
   "outputs": [
    {
     "name": "stdout",
     "output_type": "stream",
     "text": [
      "Number of users in train set :  133 \n",
      "\n",
      "Number of items in train set :  1717 \n",
      "\n"
     ]
    }
   ],
   "source": [
    "# Print number of uses and items for the trainset \n",
    "print('Number of users in train set : ', trainset.n_users, '\\n')\n",
    "print('Number of items in train set : ', trainset.n_items, '\\n')\n"
   ]
  },
  {
   "cell_type": "markdown",
   "metadata": {},
   "source": [
    "### Baseline Model"
   ]
  },
  {
   "cell_type": "code",
   "execution_count": 11,
   "metadata": {},
   "outputs": [],
   "source": [
    "#Instansiate a baseline model using KNNBaseline \n",
    "baseline = KNNBaseline(random_state=42)"
   ]
  },
  {
   "cell_type": "code",
   "execution_count": 12,
   "metadata": {},
   "outputs": [
    {
     "name": "stdout",
     "output_type": "stream",
     "text": [
      "Estimating biases using als...\n",
      "Computing the msd similarity matrix...\n",
      "Done computing similarity matrix.\n"
     ]
    },
    {
     "data": {
      "text/plain": [
       "<surprise.prediction_algorithms.knns.KNNBaseline at 0x7fe7b91be2b0>"
      ]
     },
     "execution_count": 12,
     "metadata": {},
     "output_type": "execute_result"
    }
   ],
   "source": [
    "#Fit model on the trainset \n",
    "baseline.fit(trainset)"
   ]
  },
  {
   "cell_type": "code",
   "execution_count": 13,
   "metadata": {},
   "outputs": [],
   "source": [
    "#Predict on the test set \n",
    "baselinepreds = baseline.test(testset)"
   ]
  },
  {
   "cell_type": "code",
   "execution_count": 14,
   "metadata": {},
   "outputs": [
    {
     "name": "stdout",
     "output_type": "stream",
     "text": [
      "RMSE: 0.8090\n",
      "MAE:  0.6230\n"
     ]
    },
    {
     "data": {
      "text/plain": [
       "0.6230389428536773"
      ]
     },
     "execution_count": 14,
     "metadata": {},
     "output_type": "execute_result"
    }
   ],
   "source": [
    "#Check RMSE and MAE results \n",
    "accuracy.rmse(baselinepreds)\n",
    "accuracy.mae(baselinepreds)"
   ]
  },
  {
   "cell_type": "code",
   "execution_count": 15,
   "metadata": {
    "scrolled": true
   },
   "outputs": [
    {
     "name": "stdout",
     "output_type": "stream",
     "text": [
      "Estimating biases using als...\n",
      "Computing the msd similarity matrix...\n",
      "Done computing similarity matrix.\n",
      "Estimating biases using als...\n",
      "Computing the msd similarity matrix...\n",
      "Done computing similarity matrix.\n",
      "Estimating biases using als...\n",
      "Computing the msd similarity matrix...\n",
      "Done computing similarity matrix.\n",
      "Evaluating RMSE, MAE of algorithm KNNBaseline on 3 split(s).\n",
      "\n",
      "                  Fold 1  Fold 2  Fold 3  Mean    Std     \n",
      "RMSE (testset)    0.8221  0.8133  0.8120  0.8158  0.0045  \n",
      "MAE (testset)     0.6301  0.6231  0.6228  0.6253  0.0033  \n",
      "Fit time          0.08    0.06    0.07    0.07    0.01    \n",
      "Test time         1.28    1.10    1.17    1.18    0.07    \n"
     ]
    }
   ],
   "source": [
    "#Run 3-fold cross validation on the data and print results \n",
    "cv_baseline = cross_validate(baseline, data, measures=['RMSE', 'MAE'], cv=3, verbose=True)"
   ]
  },
  {
   "cell_type": "code",
   "execution_count": 16,
   "metadata": {},
   "outputs": [
    {
     "name": "stdout",
     "output_type": "stream",
     "text": [
      "('test_rmse', array([0.82205868, 0.81332741, 0.81203809]))\n",
      "('test_mae', array([0.63006249, 0.62313599, 0.6228419 ]))\n",
      "('fit_time', (0.07831215858459473, 0.05973505973815918, 0.06706714630126953))\n",
      "('test_time', (1.2760586738586426, 1.104356288909912, 1.1722657680511475))\n"
     ]
    }
   ],
   "source": [
    "# Print out the RMSE score for each fold \n",
    "for i in cv_baseline.items():\n",
    "    print(i)"
   ]
  },
  {
   "cell_type": "code",
   "execution_count": 17,
   "metadata": {},
   "outputs": [
    {
     "data": {
      "text/plain": [
       "0.8158080602830129"
      ]
     },
     "execution_count": 17,
     "metadata": {},
     "output_type": "execute_result"
    }
   ],
   "source": [
    "#Find the average test RMSE from the 3-Fold cross-validation\n",
    "np.mean(cv_baseline['test_rmse'])"
   ]
  },
  {
   "cell_type": "markdown",
   "metadata": {},
   "source": [
    "### Model 1"
   ]
  },
  {
   "cell_type": "code",
   "execution_count": 18,
   "metadata": {},
   "outputs": [],
   "source": [
    "#Set parameters for GridSearch on SVD model \n",
    "parameters = {'n_factors': [20, 50, 80],\n",
    "             'reg_all': [0.04, 0.06],\n",
    "             'n_epochs': [10, 20, 30],\n",
    "             'lr_all': [.002, .005, .01]}\n",
    "gridsvd = GridSearchCV(SVD, param_grid=parameters, n_jobs=-1)"
   ]
  },
  {
   "cell_type": "code",
   "execution_count": 19,
   "metadata": {},
   "outputs": [],
   "source": [
    "#Fit SVD model on data\n",
    "gridsvd.fit(data)"
   ]
  },
  {
   "cell_type": "code",
   "execution_count": 20,
   "metadata": {
    "scrolled": true
   },
   "outputs": [
    {
     "name": "stdout",
     "output_type": "stream",
     "text": [
      "{'rmse': 0.7983138047656222, 'mae': 0.6111846045487044}\n",
      "{'rmse': {'n_factors': 80, 'reg_all': 0.06, 'n_epochs': 30, 'lr_all': 0.01}, 'mae': {'n_factors': 80, 'reg_all': 0.06, 'n_epochs': 30, 'lr_all': 0.01}}\n"
     ]
    }
   ],
   "source": [
    "#Print best score and best parameters from the GridSearch \n",
    "print(gridsvd.best_score)\n",
    "print(gridsvd.best_params)"
   ]
  },
  {
   "cell_type": "code",
   "execution_count": 21,
   "metadata": {},
   "outputs": [],
   "source": [
    "#Reinstantiate the model with the best parameters fromGridSearch \n",
    "svdtuned = SVD(n_factors=80,\n",
    "               reg_all=0.06,\n",
    "               n_epochs=30,\n",
    "               lr_all=0.01)"
   ]
  },
  {
   "cell_type": "code",
   "execution_count": 22,
   "metadata": {},
   "outputs": [],
   "source": [
    "#Fit and predict the model \n",
    "svdtuned.fit(trainset)\n",
    "svdpreds = svdtuned.test(testset)"
   ]
  },
  {
   "cell_type": "code",
   "execution_count": 23,
   "metadata": {},
   "outputs": [
    {
     "name": "stdout",
     "output_type": "stream",
     "text": [
      "RMSE: 0.7974\n",
      "MAE:  0.6134\n"
     ]
    },
    {
     "data": {
      "text/plain": [
       "0.6134127853460452"
      ]
     },
     "execution_count": 23,
     "metadata": {},
     "output_type": "execute_result"
    }
   ],
   "source": [
    "#Print RMSE and MAE results \n",
    "accuracy.rmse(svdpreds)\n",
    "accuracy.mae(svdpreds)"
   ]
  },
  {
   "cell_type": "code",
   "execution_count": 24,
   "metadata": {},
   "outputs": [
    {
     "name": "stdout",
     "output_type": "stream",
     "text": [
      "Evaluating RMSE, MAE of algorithm SVD on 3 split(s).\n",
      "\n",
      "                  Fold 1  Fold 2  Fold 3  Mean    Std     \n",
      "RMSE (testset)    0.8078  0.8133  0.8033  0.8081  0.0041  \n",
      "MAE (testset)     0.6189  0.6237  0.6165  0.6197  0.0030  \n",
      "Fit time          2.23    2.40    2.29    2.30    0.07    \n",
      "Test time         0.12    0.11    0.13    0.12    0.01    \n"
     ]
    }
   ],
   "source": [
    "#Perform 3-Fold cross validation for SVD tuned model\n",
    "cv_svd_tuned = cross_validate(svdtuned, data, measures=['RMSE', 'MAE'], cv=3, verbose=True)"
   ]
  },
  {
   "cell_type": "code",
   "execution_count": 25,
   "metadata": {},
   "outputs": [
    {
     "name": "stdout",
     "output_type": "stream",
     "text": [
      "('test_rmse', array([0.8077734 , 0.81329083, 0.80329865]))\n",
      "('test_mae', array([0.61888004, 0.6237021 , 0.61648926]))\n",
      "('fit_time', (2.225506067276001, 2.396040916442871, 2.289271831512451))\n",
      "('test_time', (0.11564493179321289, 0.11256980895996094, 0.1343250274658203))\n"
     ]
    }
   ],
   "source": [
    "#Display the results for all 3-folds \n",
    "for i in cv_svd_tuned.items():\n",
    "    print(i)"
   ]
  },
  {
   "cell_type": "code",
   "execution_count": 26,
   "metadata": {
    "scrolled": true
   },
   "outputs": [
    {
     "data": {
      "text/plain": [
       "0.8081209584157191"
      ]
     },
     "execution_count": 26,
     "metadata": {},
     "output_type": "execute_result"
    }
   ],
   "source": [
    "# Print out the average RMSE score for the test set\n",
    "np.mean(cv_svd_tuned['test_rmse'])"
   ]
  },
  {
   "cell_type": "markdown",
   "metadata": {},
   "source": [
    "### Model 2"
   ]
  },
  {
   "cell_type": "code",
   "execution_count": 27,
   "metadata": {},
   "outputs": [],
   "source": [
    "# Set parameters to be used in KNN models \n",
    "knn_params = {'name': ['cosine', 'pearson'],\n",
    "              'user_based':[True, False], \n",
    "              'min_support':[True, False],\n",
    "            'min_k' : [1, 2]}"
   ]
  },
  {
   "cell_type": "code",
   "execution_count": 28,
   "metadata": {},
   "outputs": [
    {
     "name": "stdout",
     "output_type": "stream",
     "text": [
      "Computing the msd similarity matrix...\n",
      "Done computing similarity matrix.\n",
      "Computing the msd similarity matrix...\n",
      "Done computing similarity matrix.\n",
      "Computing the msd similarity matrix...\n",
      "Done computing similarity matrix.\n",
      "Computing the msd similarity matrix...\n",
      "Done computing similarity matrix.\n",
      "Computing the msd similarity matrix...\n",
      "Done computing similarity matrix.\n",
      "Computing the msd similarity matrix...\n",
      "Done computing similarity matrix.\n",
      "Computing the msd similarity matrix...\n",
      "Done computing similarity matrix.\n",
      "Computing the msd similarity matrix...\n",
      "Done computing similarity matrix.\n",
      "Computing the msd similarity matrix...\n",
      "Done computing similarity matrix.\n",
      "Computing the msd similarity matrix...\n",
      "Done computing similarity matrix.\n",
      "Computing the msd similarity matrix...\n",
      "Done computing similarity matrix.\n",
      "Computing the msd similarity matrix...\n",
      "Done computing similarity matrix.\n",
      "Computing the msd similarity matrix...\n",
      "Done computing similarity matrix.\n",
      "Computing the msd similarity matrix...\n",
      "Done computing similarity matrix.\n",
      "Computing the msd similarity matrix...\n",
      "Done computing similarity matrix.\n",
      "Computing the msd similarity matrix...\n",
      "Done computing similarity matrix.\n",
      "Computing the msd similarity matrix...\n",
      "Done computing similarity matrix.\n",
      "Computing the msd similarity matrix...\n",
      "Done computing similarity matrix.\n",
      "Computing the msd similarity matrix...\n",
      "Done computing similarity matrix.\n",
      "Computing the msd similarity matrix...\n",
      "Done computing similarity matrix.\n",
      "Computing the msd similarity matrix...\n",
      "Done computing similarity matrix.\n",
      "Computing the msd similarity matrix...\n",
      "Done computing similarity matrix.\n",
      "Computing the msd similarity matrix...\n",
      "Done computing similarity matrix.\n",
      "Computing the msd similarity matrix...\n",
      "Done computing similarity matrix.\n",
      "Computing the msd similarity matrix...\n",
      "Done computing similarity matrix.\n",
      "Computing the msd similarity matrix...\n",
      "Done computing similarity matrix.\n",
      "Computing the msd similarity matrix...\n",
      "Done computing similarity matrix.\n",
      "Computing the msd similarity matrix...\n",
      "Done computing similarity matrix.\n",
      "Computing the msd similarity matrix...\n",
      "Done computing similarity matrix.\n",
      "Computing the msd similarity matrix...\n",
      "Done computing similarity matrix.\n",
      "Computing the msd similarity matrix...\n",
      "Done computing similarity matrix.\n",
      "Computing the msd similarity matrix...\n",
      "Done computing similarity matrix.\n",
      "Computing the msd similarity matrix...\n",
      "Done computing similarity matrix.\n",
      "Computing the msd similarity matrix...\n",
      "Done computing similarity matrix.\n",
      "Computing the msd similarity matrix...\n",
      "Done computing similarity matrix.\n",
      "Computing the msd similarity matrix...\n",
      "Done computing similarity matrix.\n",
      "Computing the msd similarity matrix...\n",
      "Done computing similarity matrix.\n",
      "Computing the msd similarity matrix...\n",
      "Done computing similarity matrix.\n",
      "Computing the msd similarity matrix...\n",
      "Done computing similarity matrix.\n",
      "Computing the msd similarity matrix...\n",
      "Done computing similarity matrix.\n",
      "Computing the msd similarity matrix...\n",
      "Done computing similarity matrix.\n",
      "Computing the msd similarity matrix...\n",
      "Done computing similarity matrix.\n",
      "Computing the msd similarity matrix...\n",
      "Done computing similarity matrix.\n",
      "Computing the msd similarity matrix...\n",
      "Done computing similarity matrix.\n",
      "Computing the msd similarity matrix...\n",
      "Done computing similarity matrix.\n",
      "Computing the msd similarity matrix...\n",
      "Done computing similarity matrix.\n",
      "Computing the msd similarity matrix...\n",
      "Done computing similarity matrix.\n",
      "Computing the msd similarity matrix...\n",
      "Done computing similarity matrix.\n"
     ]
    }
   ],
   "source": [
    "# Apply GridSearch to the KNN Basic model to identify the best parameters\n",
    "gsknnbasic = GridSearchCV(KNNBasic, knn_params, measures=['rmse', 'mae'], cv=3)\n",
    "gsknnbasic.fit(data)"
   ]
  },
  {
   "cell_type": "code",
   "execution_count": 29,
   "metadata": {},
   "outputs": [
    {
     "name": "stdout",
     "output_type": "stream",
     "text": [
      "{'rmse': 0.884847778767107, 'mae': 0.6857712646134838}\n",
      "{'rmse': {'name': 'cosine', 'user_based': True, 'min_support': True, 'min_k': 1}, 'mae': {'name': 'cosine', 'user_based': True, 'min_support': True, 'min_k': 1}}\n"
     ]
    }
   ],
   "source": [
    "#Display the best scores and parameters from GridSearch\n",
    "print(gsknnbasic.best_score)\n",
    "print(gsknnbasic.best_params)"
   ]
  },
  {
   "cell_type": "code",
   "execution_count": 30,
   "metadata": {},
   "outputs": [],
   "source": [
    "#Reinstantiate the model with the best parameters from GridSearch \n",
    "knnbasic_tuned = KNNBasic(sim_options={'name': 'cosine', \n",
    "                                       'user_based': True, \n",
    "                                       'min_support':True, \n",
    "                                       'min_k':2, })"
   ]
  },
  {
   "cell_type": "code",
   "execution_count": 31,
   "metadata": {
    "scrolled": true
   },
   "outputs": [
    {
     "name": "stdout",
     "output_type": "stream",
     "text": [
      "Computing the cosine similarity matrix...\n",
      "Done computing similarity matrix.\n"
     ]
    }
   ],
   "source": [
    "#Fit on the train set and predict on the test set \n",
    "knnbasic_tuned.fit(trainset)\n",
    "knnbpreds = knnbasic_tuned.test(testset)"
   ]
  },
  {
   "cell_type": "code",
   "execution_count": 32,
   "metadata": {},
   "outputs": [
    {
     "name": "stdout",
     "output_type": "stream",
     "text": [
      "RMSE: 0.8966\n",
      "MAE:  0.6992\n"
     ]
    },
    {
     "data": {
      "text/plain": [
       "0.6992134285971248"
      ]
     },
     "execution_count": 32,
     "metadata": {},
     "output_type": "execute_result"
    }
   ],
   "source": [
    "#Print RMSE and MAE results \n",
    "accuracy.rmse(knnbpreds)\n",
    "accuracy.mae(knnbpreds)"
   ]
  },
  {
   "cell_type": "markdown",
   "metadata": {},
   "source": [
    "Another way to evalute the model is to perform a cross validation and print the resulting scores. We will explore this below:"
   ]
  },
  {
   "cell_type": "code",
   "execution_count": 33,
   "metadata": {},
   "outputs": [
    {
     "name": "stdout",
     "output_type": "stream",
     "text": [
      "Computing the cosine similarity matrix...\n",
      "Done computing similarity matrix.\n",
      "Computing the cosine similarity matrix...\n",
      "Done computing similarity matrix.\n",
      "Computing the cosine similarity matrix...\n",
      "Done computing similarity matrix.\n",
      "Evaluating RMSE, MAE of algorithm KNNBasic on 3 split(s).\n",
      "\n",
      "                  Fold 1  Fold 2  Fold 3  Mean    Std     \n",
      "RMSE (testset)    0.9152  0.9019  0.8975  0.9049  0.0075  \n",
      "MAE (testset)     0.7089  0.7008  0.6988  0.7028  0.0043  \n",
      "Fit time          0.03    0.03    0.03    0.03    0.00    \n",
      "Test time         0.83    0.83    0.84    0.83    0.01    \n"
     ]
    }
   ],
   "source": [
    "#Conduct cross validation for the KNNBasic tuned model \n",
    "cv_knn_basic = cross_validate(knnbasic_tuned, data, measures=['RMSE', 'MAE'], cv=3, verbose=True)"
   ]
  },
  {
   "cell_type": "code",
   "execution_count": 34,
   "metadata": {},
   "outputs": [
    {
     "name": "stdout",
     "output_type": "stream",
     "text": [
      "('test_rmse', array([0.91521319, 0.90191786, 0.8974969 ]))\n",
      "('test_mae', array([0.70886452, 0.70079596, 0.69881621]))\n",
      "('fit_time', (0.02921295166015625, 0.030929088592529297, 0.03017902374267578))\n",
      "('test_time', (0.8292660713195801, 0.8253788948059082, 0.8378198146820068))\n"
     ]
    }
   ],
   "source": [
    "# Print out results from the cross-valdiatoin \n",
    "for i in cv_knn_basic.items():\n",
    "    print(i)"
   ]
  },
  {
   "cell_type": "code",
   "execution_count": 35,
   "metadata": {},
   "outputs": [
    {
     "data": {
      "text/plain": [
       "0.9048759833874648"
      ]
     },
     "execution_count": 35,
     "metadata": {},
     "output_type": "execute_result"
    }
   ],
   "source": [
    "# Print out the average RMSE score for the test set\n",
    "np.mean(cv_knn_basic['test_rmse'])"
   ]
  },
  {
   "cell_type": "markdown",
   "metadata": {},
   "source": [
    "This average of test RMSE results in our cross validation is approximately 0.97, similar to the RMSE we found above. This is a significant improvement from our baseline model which had an RMSE of 0.873."
   ]
  },
  {
   "cell_type": "markdown",
   "metadata": {},
   "source": [
    "### Model 3"
   ]
  },
  {
   "cell_type": "code",
   "execution_count": 36,
   "metadata": {},
   "outputs": [
    {
     "name": "stdout",
     "output_type": "stream",
     "text": [
      "Estimating biases using als...\n",
      "Computing the msd similarity matrix...\n",
      "Done computing similarity matrix.\n",
      "Estimating biases using als...\n",
      "Computing the msd similarity matrix...\n",
      "Done computing similarity matrix.\n",
      "Estimating biases using als...\n",
      "Computing the msd similarity matrix...\n",
      "Done computing similarity matrix.\n",
      "Estimating biases using als...\n",
      "Computing the msd similarity matrix...\n",
      "Done computing similarity matrix.\n",
      "Estimating biases using als...\n",
      "Computing the msd similarity matrix...\n",
      "Done computing similarity matrix.\n",
      "Estimating biases using als...\n",
      "Computing the msd similarity matrix...\n",
      "Done computing similarity matrix.\n",
      "Estimating biases using als...\n",
      "Computing the msd similarity matrix...\n",
      "Done computing similarity matrix.\n",
      "Estimating biases using als...\n",
      "Computing the msd similarity matrix...\n",
      "Done computing similarity matrix.\n",
      "Estimating biases using als...\n",
      "Computing the msd similarity matrix...\n",
      "Done computing similarity matrix.\n",
      "Estimating biases using als...\n",
      "Computing the msd similarity matrix...\n",
      "Done computing similarity matrix.\n",
      "Estimating biases using als...\n",
      "Computing the msd similarity matrix...\n",
      "Done computing similarity matrix.\n",
      "Estimating biases using als...\n",
      "Computing the msd similarity matrix...\n",
      "Done computing similarity matrix.\n",
      "Estimating biases using als...\n",
      "Computing the msd similarity matrix...\n",
      "Done computing similarity matrix.\n",
      "Estimating biases using als...\n",
      "Computing the msd similarity matrix...\n",
      "Done computing similarity matrix.\n",
      "Estimating biases using als...\n",
      "Computing the msd similarity matrix...\n",
      "Done computing similarity matrix.\n",
      "Estimating biases using als...\n",
      "Computing the msd similarity matrix...\n",
      "Done computing similarity matrix.\n",
      "Estimating biases using als...\n",
      "Computing the msd similarity matrix...\n",
      "Done computing similarity matrix.\n",
      "Estimating biases using als...\n",
      "Computing the msd similarity matrix...\n",
      "Done computing similarity matrix.\n",
      "Estimating biases using als...\n",
      "Computing the msd similarity matrix...\n",
      "Done computing similarity matrix.\n",
      "Estimating biases using als...\n",
      "Computing the msd similarity matrix...\n",
      "Done computing similarity matrix.\n",
      "Estimating biases using als...\n",
      "Computing the msd similarity matrix...\n",
      "Done computing similarity matrix.\n",
      "Estimating biases using als...\n",
      "Computing the msd similarity matrix...\n",
      "Done computing similarity matrix.\n",
      "Estimating biases using als...\n",
      "Computing the msd similarity matrix...\n",
      "Done computing similarity matrix.\n",
      "Estimating biases using als...\n",
      "Computing the msd similarity matrix...\n",
      "Done computing similarity matrix.\n",
      "Estimating biases using als...\n",
      "Computing the msd similarity matrix...\n",
      "Done computing similarity matrix.\n",
      "Estimating biases using als...\n",
      "Computing the msd similarity matrix...\n",
      "Done computing similarity matrix.\n",
      "Estimating biases using als...\n",
      "Computing the msd similarity matrix...\n",
      "Done computing similarity matrix.\n",
      "Estimating biases using als...\n",
      "Computing the msd similarity matrix...\n",
      "Done computing similarity matrix.\n",
      "Estimating biases using als...\n",
      "Computing the msd similarity matrix...\n",
      "Done computing similarity matrix.\n",
      "Estimating biases using als...\n",
      "Computing the msd similarity matrix...\n",
      "Done computing similarity matrix.\n",
      "Estimating biases using als...\n",
      "Computing the msd similarity matrix...\n",
      "Done computing similarity matrix.\n",
      "Estimating biases using als...\n",
      "Computing the msd similarity matrix...\n",
      "Done computing similarity matrix.\n",
      "Estimating biases using als...\n",
      "Computing the msd similarity matrix...\n",
      "Done computing similarity matrix.\n",
      "Estimating biases using als...\n",
      "Computing the msd similarity matrix...\n",
      "Done computing similarity matrix.\n",
      "Estimating biases using als...\n",
      "Computing the msd similarity matrix...\n",
      "Done computing similarity matrix.\n",
      "Estimating biases using als...\n",
      "Computing the msd similarity matrix...\n",
      "Done computing similarity matrix.\n",
      "Estimating biases using als...\n",
      "Computing the msd similarity matrix...\n",
      "Done computing similarity matrix.\n",
      "Estimating biases using als...\n",
      "Computing the msd similarity matrix...\n",
      "Done computing similarity matrix.\n",
      "Estimating biases using als...\n",
      "Computing the msd similarity matrix...\n",
      "Done computing similarity matrix.\n",
      "Estimating biases using als...\n",
      "Computing the msd similarity matrix...\n",
      "Done computing similarity matrix.\n",
      "Estimating biases using als...\n",
      "Computing the msd similarity matrix...\n",
      "Done computing similarity matrix.\n",
      "Estimating biases using als...\n",
      "Computing the msd similarity matrix...\n",
      "Done computing similarity matrix.\n",
      "Estimating biases using als...\n",
      "Computing the msd similarity matrix...\n",
      "Done computing similarity matrix.\n",
      "Estimating biases using als...\n",
      "Computing the msd similarity matrix...\n",
      "Done computing similarity matrix.\n",
      "Estimating biases using als...\n",
      "Computing the msd similarity matrix...\n",
      "Done computing similarity matrix.\n",
      "Estimating biases using als...\n",
      "Computing the msd similarity matrix...\n",
      "Done computing similarity matrix.\n",
      "Estimating biases using als...\n",
      "Computing the msd similarity matrix...\n",
      "Done computing similarity matrix.\n",
      "Estimating biases using als...\n",
      "Computing the msd similarity matrix...\n",
      "Done computing similarity matrix.\n"
     ]
    }
   ],
   "source": [
    "#Apply KNN GridSearch parameters on the KNNBaseline model \n",
    "gsknnbaseline = GridSearchCV(KNNBaseline, knn_params, measures=['rmse', 'mae'], cv=3)\n",
    "gsknnbaseline.fit(data)"
   ]
  },
  {
   "cell_type": "code",
   "execution_count": 37,
   "metadata": {
    "scrolled": true
   },
   "outputs": [
    {
     "name": "stdout",
     "output_type": "stream",
     "text": [
      "{'rmse': 0.8176944686841295, 'mae': 0.6266536384986057}\n",
      "{'rmse': {'name': 'cosine', 'user_based': True, 'min_support': True, 'min_k': 1}, 'mae': {'name': 'cosine', 'user_based': True, 'min_support': True, 'min_k': 1}}\n"
     ]
    }
   ],
   "source": [
    "#Display the best score and the best parameters \n",
    "print(gsknnbaseline.best_score)\n",
    "print(gsknnbaseline.best_params)"
   ]
  },
  {
   "cell_type": "code",
   "execution_count": 38,
   "metadata": {},
   "outputs": [],
   "source": [
    "#Reinstantiate the model with the best parameters from GridSearch \n",
    "knnbaseline_tuned = KNNBaseline(sim_options={'name': 'cosine', \n",
    "                                       'user_based': True, \n",
    "                                       'min_support':True, \n",
    "                                       'min_k':2, })"
   ]
  },
  {
   "cell_type": "code",
   "execution_count": 39,
   "metadata": {},
   "outputs": [
    {
     "name": "stdout",
     "output_type": "stream",
     "text": [
      "Estimating biases using als...\n",
      "Computing the cosine similarity matrix...\n",
      "Done computing similarity matrix.\n"
     ]
    }
   ],
   "source": [
    "#Fit the trainset and predict on the test set \n",
    "knnbaseline_tuned.fit(trainset)\n",
    "knnbaselinepreds = knnbaseline_tuned.test(testset)"
   ]
  },
  {
   "cell_type": "code",
   "execution_count": 40,
   "metadata": {},
   "outputs": [
    {
     "name": "stdout",
     "output_type": "stream",
     "text": [
      "RMSE: 0.8123\n",
      "MAE:  0.6259\n"
     ]
    },
    {
     "data": {
      "text/plain": [
       "0.625944142354212"
      ]
     },
     "execution_count": 40,
     "metadata": {},
     "output_type": "execute_result"
    }
   ],
   "source": [
    "#Print the RMSE and MAE scores \n",
    "accuracy.rmse(knnbaselinepreds)\n",
    "accuracy.mae(knnbaselinepreds)"
   ]
  },
  {
   "cell_type": "code",
   "execution_count": 41,
   "metadata": {},
   "outputs": [
    {
     "name": "stdout",
     "output_type": "stream",
     "text": [
      "Estimating biases using als...\n",
      "Computing the cosine similarity matrix...\n",
      "Done computing similarity matrix.\n",
      "Estimating biases using als...\n",
      "Computing the cosine similarity matrix...\n",
      "Done computing similarity matrix.\n",
      "Estimating biases using als...\n",
      "Computing the cosine similarity matrix...\n",
      "Done computing similarity matrix.\n",
      "Evaluating RMSE, MAE of algorithm KNNBaseline on 3 split(s).\n",
      "\n",
      "                  Fold 1  Fold 2  Fold 3  Mean    Std     \n",
      "RMSE (testset)    0.8196  0.8276  0.8123  0.8198  0.0063  \n",
      "MAE (testset)     0.6262  0.6328  0.6262  0.6284  0.0031  \n",
      "Fit time          0.08    0.07    0.09    0.08    0.01    \n",
      "Test time         1.25    1.20    1.22    1.22    0.02    \n"
     ]
    }
   ],
   "source": [
    "#Perform 3 fold cross validation \n",
    "cv_knn_baseline = cross_validate(knnbaseline_tuned, data, measures=['RMSE', 'MAE'], cv=3, verbose=True)"
   ]
  },
  {
   "cell_type": "code",
   "execution_count": 42,
   "metadata": {},
   "outputs": [
    {
     "data": {
      "text/plain": [
       "0.81982896491215"
      ]
     },
     "execution_count": 42,
     "metadata": {},
     "output_type": "execute_result"
    }
   ],
   "source": [
    "#Show the mean RMSE score for the test set \n",
    "np.mean(cv_knn_baseline['test_rmse'])"
   ]
  },
  {
   "cell_type": "markdown",
   "metadata": {},
   "source": [
    "### Model 4"
   ]
  },
  {
   "cell_type": "code",
   "execution_count": 43,
   "metadata": {},
   "outputs": [
    {
     "name": "stdout",
     "output_type": "stream",
     "text": [
      "Computing the msd similarity matrix...\n",
      "Done computing similarity matrix.\n",
      "Computing the msd similarity matrix...\n",
      "Done computing similarity matrix.\n",
      "Computing the msd similarity matrix...\n",
      "Done computing similarity matrix.\n",
      "Computing the msd similarity matrix...\n",
      "Done computing similarity matrix.\n",
      "Computing the msd similarity matrix...\n",
      "Done computing similarity matrix.\n",
      "Computing the msd similarity matrix...\n",
      "Done computing similarity matrix.\n",
      "Computing the msd similarity matrix...\n",
      "Done computing similarity matrix.\n",
      "Computing the msd similarity matrix...\n",
      "Done computing similarity matrix.\n",
      "Computing the msd similarity matrix...\n",
      "Done computing similarity matrix.\n",
      "Computing the msd similarity matrix...\n",
      "Done computing similarity matrix.\n",
      "Computing the msd similarity matrix...\n",
      "Done computing similarity matrix.\n",
      "Computing the msd similarity matrix...\n",
      "Done computing similarity matrix.\n",
      "Computing the msd similarity matrix...\n",
      "Done computing similarity matrix.\n",
      "Computing the msd similarity matrix...\n",
      "Done computing similarity matrix.\n",
      "Computing the msd similarity matrix...\n",
      "Done computing similarity matrix.\n",
      "Computing the msd similarity matrix...\n",
      "Done computing similarity matrix.\n",
      "Computing the msd similarity matrix...\n",
      "Done computing similarity matrix.\n",
      "Computing the msd similarity matrix...\n",
      "Done computing similarity matrix.\n",
      "Computing the msd similarity matrix...\n",
      "Done computing similarity matrix.\n",
      "Computing the msd similarity matrix...\n",
      "Done computing similarity matrix.\n",
      "Computing the msd similarity matrix...\n",
      "Done computing similarity matrix.\n",
      "Computing the msd similarity matrix...\n",
      "Done computing similarity matrix.\n",
      "Computing the msd similarity matrix...\n",
      "Done computing similarity matrix.\n",
      "Computing the msd similarity matrix...\n",
      "Done computing similarity matrix.\n",
      "Computing the msd similarity matrix...\n",
      "Done computing similarity matrix.\n",
      "Computing the msd similarity matrix...\n",
      "Done computing similarity matrix.\n",
      "Computing the msd similarity matrix...\n",
      "Done computing similarity matrix.\n",
      "Computing the msd similarity matrix...\n",
      "Done computing similarity matrix.\n",
      "Computing the msd similarity matrix...\n",
      "Done computing similarity matrix.\n",
      "Computing the msd similarity matrix...\n",
      "Done computing similarity matrix.\n",
      "Computing the msd similarity matrix...\n",
      "Done computing similarity matrix.\n",
      "Computing the msd similarity matrix...\n",
      "Done computing similarity matrix.\n",
      "Computing the msd similarity matrix...\n",
      "Done computing similarity matrix.\n",
      "Computing the msd similarity matrix...\n",
      "Done computing similarity matrix.\n",
      "Computing the msd similarity matrix...\n",
      "Done computing similarity matrix.\n",
      "Computing the msd similarity matrix...\n",
      "Done computing similarity matrix.\n",
      "Computing the msd similarity matrix...\n",
      "Done computing similarity matrix.\n",
      "Computing the msd similarity matrix...\n",
      "Done computing similarity matrix.\n",
      "Computing the msd similarity matrix...\n",
      "Done computing similarity matrix.\n",
      "Computing the msd similarity matrix...\n",
      "Done computing similarity matrix.\n",
      "Computing the msd similarity matrix...\n",
      "Done computing similarity matrix.\n",
      "Computing the msd similarity matrix...\n",
      "Done computing similarity matrix.\n",
      "Computing the msd similarity matrix...\n",
      "Done computing similarity matrix.\n",
      "Computing the msd similarity matrix...\n",
      "Done computing similarity matrix.\n",
      "Computing the msd similarity matrix...\n",
      "Done computing similarity matrix.\n",
      "Computing the msd similarity matrix...\n",
      "Done computing similarity matrix.\n",
      "Computing the msd similarity matrix...\n",
      "Done computing similarity matrix.\n",
      "Computing the msd similarity matrix...\n",
      "Done computing similarity matrix.\n"
     ]
    }
   ],
   "source": [
    "#Apply GridSearch to the KNNWithMeans model \n",
    "gsknnWM = GridSearchCV(KNNWithMeans, knn_params, measures=['rmse', 'mae'], cv=3)\n",
    "gsknnWM.fit(data)"
   ]
  },
  {
   "cell_type": "code",
   "execution_count": 44,
   "metadata": {},
   "outputs": [
    {
     "name": "stdout",
     "output_type": "stream",
     "text": [
      "{'rmse': 0.8240119392584893, 'mae': 0.6319216808849227}\n",
      "{'rmse': {'name': 'cosine', 'user_based': True, 'min_support': True, 'min_k': 1}, 'mae': {'name': 'cosine', 'user_based': True, 'min_support': True, 'min_k': 1}}\n"
     ]
    }
   ],
   "source": [
    "#Display the best score and best parameters from GridSearch \n",
    "print(gsknnWM.best_score)\n",
    "print(gsknnWM.best_params)"
   ]
  },
  {
   "cell_type": "code",
   "execution_count": 45,
   "metadata": {},
   "outputs": [],
   "source": [
    "#Reinstansiate the model with the best parameters \n",
    "knnwm_tuned = KNNWithMeans(sim_options={'name': 'cosine', \n",
    "                                       'user_based': True, \n",
    "                                       'min_support':True, \n",
    "                                       'min_k':2, })"
   ]
  },
  {
   "cell_type": "code",
   "execution_count": 46,
   "metadata": {},
   "outputs": [
    {
     "name": "stdout",
     "output_type": "stream",
     "text": [
      "Computing the cosine similarity matrix...\n",
      "Done computing similarity matrix.\n"
     ]
    }
   ],
   "source": [
    "#Fit on the trainset, predict on the testset \n",
    "knnwm_tuned.fit(trainset)\n",
    "knnwmpreds = knnwm_tuned.test(testset)"
   ]
  },
  {
   "cell_type": "code",
   "execution_count": 47,
   "metadata": {
    "scrolled": true
   },
   "outputs": [
    {
     "name": "stdout",
     "output_type": "stream",
     "text": [
      "RMSE: 0.8197\n",
      "MAE:  0.6309\n"
     ]
    },
    {
     "data": {
      "text/plain": [
       "0.6309305074204756"
      ]
     },
     "execution_count": 47,
     "metadata": {},
     "output_type": "execute_result"
    }
   ],
   "source": [
    "#Print RMSE and MAE results\n",
    "accuracy.rmse(knnwmpreds)\n",
    "accuracy.mae(knnwmpreds)"
   ]
  },
  {
   "cell_type": "code",
   "execution_count": 48,
   "metadata": {},
   "outputs": [
    {
     "name": "stdout",
     "output_type": "stream",
     "text": [
      "Computing the cosine similarity matrix...\n",
      "Done computing similarity matrix.\n",
      "Computing the cosine similarity matrix...\n",
      "Done computing similarity matrix.\n",
      "Computing the cosine similarity matrix...\n",
      "Done computing similarity matrix.\n",
      "Evaluating RMSE, MAE of algorithm KNNWithMeans on 3 split(s).\n",
      "\n",
      "                  Fold 1  Fold 2  Fold 3  Mean    Std     \n",
      "RMSE (testset)    0.8251  0.8251  0.8324  0.8275  0.0035  \n",
      "MAE (testset)     0.6340  0.6310  0.6390  0.6347  0.0033  \n",
      "Fit time          0.03    0.04    0.06    0.04    0.01    \n",
      "Test time         0.88    1.34    1.11    1.11    0.18    \n"
     ]
    }
   ],
   "source": [
    "#Perform 3-Fold cross validation on KNNWithMeans model \n",
    "cv_knn_wm = cross_validate(knnwm_tuned, data, measures=['RMSE', 'MAE'], cv=3, verbose=True)"
   ]
  },
  {
   "cell_type": "code",
   "execution_count": 49,
   "metadata": {},
   "outputs": [
    {
     "data": {
      "text/plain": [
       "0.8275205999348221"
      ]
     },
     "execution_count": 49,
     "metadata": {},
     "output_type": "execute_result"
    }
   ],
   "source": [
    "#Print the average RMSE score for the test set \n",
    "np.mean(cv_knn_wm['test_rmse'])"
   ]
  },
  {
   "cell_type": "markdown",
   "metadata": {},
   "source": [
    "### All results"
   ]
  },
  {
   "cell_type": "code",
   "execution_count": 50,
   "metadata": {
    "scrolled": true
   },
   "outputs": [
    {
     "name": "stdout",
     "output_type": "stream",
     "text": [
      "RMSE: 0.8090\n",
      "MAE:  0.6230\n",
      "RMSE: 0.7974\n",
      "MAE:  0.6134\n",
      "RMSE: 0.8966\n",
      "MAE:  0.6992\n",
      "RMSE: 0.8123\n",
      "MAE:  0.6259\n",
      "RMSE: 0.8197\n",
      "MAE:  0.6309\n"
     ]
    }
   ],
   "source": [
    "#Create a dictionary for each models' results \n",
    "baselineresult = {'model': 'baseline','RMSE': accuracy.rmse(baselinepreds), 'MAE': accuracy.mae(baselinepreds), 'CV': np.mean(cv_baseline['test_rmse'])}\n",
    "svdresult = {'model':'svd', 'RMSE': accuracy.rmse(svdpreds), 'MAE': accuracy.mae(svdpreds), 'CV': np.mean(cv_svd_tuned['test_rmse'])}\n",
    "knnbasicresult = {'model':'knnbasic','RMSE': accuracy.rmse(knnbpreds), 'MAE': accuracy.mae(knnbpreds), 'CV': np.mean(cv_knn_basic['test_rmse'])}\n",
    "knnbaselineresult = {'model':'knnbaseline','RMSE': accuracy.rmse(knnbaselinepreds), 'MAE': accuracy.mae(knnbaselinepreds), 'CV': np.mean(cv_knn_baseline['test_rmse'])}\n",
    "knnwmresult = {'model':'knnwm','RMSE': accuracy.rmse(knnwmpreds), 'MAE': accuracy.mae(knnwmpreds), 'CV': np.mean(cv_knn_wm['test_rmse'])}"
   ]
  },
  {
   "cell_type": "code",
   "execution_count": 51,
   "metadata": {},
   "outputs": [],
   "source": [
    "#Combine all the results into a list \n",
    "result_list = [baselineresult, svdresult, knnbasicresult, knnbaselineresult, knnwmresult]"
   ]
  },
  {
   "cell_type": "code",
   "execution_count": 52,
   "metadata": {},
   "outputs": [],
   "source": [
    "#Transform the results lists into a DataFrame \n",
    "df_results_updated = pd.DataFrame.from_dict(result_list, orient='columns')\n",
    "df_results_updated = df_results_updated.set_index('model')"
   ]
  },
  {
   "cell_type": "code",
   "execution_count": 53,
   "metadata": {},
   "outputs": [
    {
     "data": {
      "text/html": [
       "<div>\n",
       "<style scoped>\n",
       "    .dataframe tbody tr th:only-of-type {\n",
       "        vertical-align: middle;\n",
       "    }\n",
       "\n",
       "    .dataframe tbody tr th {\n",
       "        vertical-align: top;\n",
       "    }\n",
       "\n",
       "    .dataframe thead th {\n",
       "        text-align: right;\n",
       "    }\n",
       "</style>\n",
       "<table border=\"1\" class=\"dataframe\">\n",
       "  <thead>\n",
       "    <tr style=\"text-align: right;\">\n",
       "      <th></th>\n",
       "      <th>RMSE</th>\n",
       "      <th>MAE</th>\n",
       "      <th>CV</th>\n",
       "    </tr>\n",
       "    <tr>\n",
       "      <th>model</th>\n",
       "      <th></th>\n",
       "      <th></th>\n",
       "      <th></th>\n",
       "    </tr>\n",
       "  </thead>\n",
       "  <tbody>\n",
       "    <tr>\n",
       "      <th>baseline</th>\n",
       "      <td>0.808995</td>\n",
       "      <td>0.623039</td>\n",
       "      <td>0.815808</td>\n",
       "    </tr>\n",
       "    <tr>\n",
       "      <th>svd</th>\n",
       "      <td>0.797356</td>\n",
       "      <td>0.613413</td>\n",
       "      <td>0.808121</td>\n",
       "    </tr>\n",
       "    <tr>\n",
       "      <th>knnbasic</th>\n",
       "      <td>0.896630</td>\n",
       "      <td>0.699213</td>\n",
       "      <td>0.904876</td>\n",
       "    </tr>\n",
       "    <tr>\n",
       "      <th>knnbaseline</th>\n",
       "      <td>0.812294</td>\n",
       "      <td>0.625944</td>\n",
       "      <td>0.819829</td>\n",
       "    </tr>\n",
       "    <tr>\n",
       "      <th>knnwm</th>\n",
       "      <td>0.819708</td>\n",
       "      <td>0.630931</td>\n",
       "      <td>0.827521</td>\n",
       "    </tr>\n",
       "  </tbody>\n",
       "</table>\n",
       "</div>"
      ],
      "text/plain": [
       "                 RMSE       MAE        CV\n",
       "model                                    \n",
       "baseline     0.808995  0.623039  0.815808\n",
       "svd          0.797356  0.613413  0.808121\n",
       "knnbasic     0.896630  0.699213  0.904876\n",
       "knnbaseline  0.812294  0.625944  0.819829\n",
       "knnwm        0.819708  0.630931  0.827521"
      ]
     },
     "execution_count": 53,
     "metadata": {},
     "output_type": "execute_result"
    }
   ],
   "source": [
    "#Display the results for all of the models \n",
    "df_results_updated"
   ]
  },
  {
   "cell_type": "markdown",
   "metadata": {},
   "source": [
    "### Generating New Ratings "
   ]
  },
  {
   "cell_type": "markdown",
   "metadata": {},
   "source": [
    "We will create a function that generates ratings for a brand new user. We will then show how our model can use these ratings in order to make predictions. This step is important as it shows how our models and our recommendation systems can actually make predictions on new ratings!\n"
   ]
  },
  {
   "cell_type": "code",
   "execution_count": 5,
   "metadata": {},
   "outputs": [],
   "source": [
    "#Define function that can generate new user movie ratings \n",
    "def movie_rater(movie_df,num, genre=None):\n",
    "    #Create new user with userId = 1000\n",
    "    userID = 1000\n",
    "    \n",
    "    #Create an empty list of ratings \n",
    "    rating_list = []\n",
    "    \n",
    "    #For all number of ratings, provide a random movie sample within the specified genre for the user to rate \n",
    "    while num > 0:\n",
    "        if genre:\n",
    "            movie = movie_df[movie_df['genres'].str.contains(genre)].sample(1)\n",
    "        else:\n",
    "            movie = movie_df.sample(1)\n",
    "        print(movie)\n",
    "    \n",
    "    #Provide user with a prompt to rate the movie, then print the userID, movieID, then title, then append \n",
    "    #results to the rating_list \n",
    "        rating = input('How do you rate this movie on a scale of 1-5, press n if you have not seen :\\n')\n",
    "        if rating == 'n':\n",
    "            continue\n",
    "        else:\n",
    "            rating_one_movie = {'userId':userID,'movieId':movie['movieId'].values[0],'title':movie['title'].values[0], 'rating':rating}\n",
    "            rating_list.append(rating_one_movie) \n",
    "            num -= 1\n",
    "    return rating_list  "
   ]
  },
  {
   "cell_type": "code",
   "execution_count": 7,
   "metadata": {},
   "outputs": [],
   "source": [
    "dfnew = df[['userId', 'movieId', 'rating', 'title', 'genres']]"
   ]
  },
  {
   "cell_type": "code",
   "execution_count": 8,
   "metadata": {
    "scrolled": true
   },
   "outputs": [
    {
     "name": "stdout",
     "output_type": "stream",
     "text": [
      "       userId  movieId  rating            title              genres\n",
      "17397     111     4262     2.0  Scarface (1983)  Action|Crime|Drama\n",
      "How do you rate this movie on a scale of 1-5, press n if you have not seen :\n",
      "3\n",
      "       userId  movieId  rating              title            genres\n",
      "92658     599      110     3.5  Braveheart (1995)  Action|Drama|War\n",
      "How do you rate this movie on a scale of 1-5, press n if you have not seen :\n",
      "5\n",
      "       userId  movieId  rating  \\\n",
      "67151     434     1517     4.0   \n",
      "\n",
      "                                                   title  \\\n",
      "67151  Austin Powers: International Man of Mystery (1...   \n",
      "\n",
      "                        genres  \n",
      "67151  Action|Adventure|Comedy  \n",
      "How do you rate this movie on a scale of 1-5, press n if you have not seen :\n",
      "3\n"
     ]
    }
   ],
   "source": [
    "userrating = movie_rater(dfnew, 3, 'Action')"
   ]
  },
  {
   "cell_type": "code",
   "execution_count": 9,
   "metadata": {},
   "outputs": [
    {
     "data": {
      "text/plain": [
       "[{'userId': 1000, 'movieId': 4262, 'title': 'Scarface (1983)', 'rating': '3'},\n",
       " {'userId': 1000, 'movieId': 110, 'title': 'Braveheart (1995)', 'rating': '5'},\n",
       " {'userId': 1000,\n",
       "  'movieId': 1517,\n",
       "  'title': 'Austin Powers: International Man of Mystery (1997)',\n",
       "  'rating': '3'}]"
      ]
     },
     "execution_count": 9,
     "metadata": {},
     "output_type": "execute_result"
    }
   ],
   "source": [
    "## Display the new user ratings \n",
    "userrating"
   ]
  },
  {
   "cell_type": "markdown",
   "metadata": {},
   "source": [
    "The new user has rated three new movies: Dawn of the Dead, The Four Musketeers, and Braveheart. Our model can now provide predictions for these ratings by adding them to our model."
   ]
  },
  {
   "cell_type": "code",
   "execution_count": 10,
   "metadata": {},
   "outputs": [],
   "source": [
    "#Add new ratings to our DataFrame\n",
    "new_ratings_df = df4.append(userrating,ignore_index=True, sort=False)"
   ]
  },
  {
   "cell_type": "code",
   "execution_count": 11,
   "metadata": {
    "scrolled": true
   },
   "outputs": [],
   "source": [
    "#Drop the 'title' column so that our dataframe is ready to be put into surprise\n",
    "new_ratings_df.drop(['title'], axis=1, inplace=True)"
   ]
  },
  {
   "cell_type": "code",
   "execution_count": 12,
   "metadata": {},
   "outputs": [
    {
     "data": {
      "text/html": [
       "<div>\n",
       "<style scoped>\n",
       "    .dataframe tbody tr th:only-of-type {\n",
       "        vertical-align: middle;\n",
       "    }\n",
       "\n",
       "    .dataframe tbody tr th {\n",
       "        vertical-align: top;\n",
       "    }\n",
       "\n",
       "    .dataframe thead th {\n",
       "        text-align: right;\n",
       "    }\n",
       "</style>\n",
       "<table border=\"1\" class=\"dataframe\">\n",
       "  <thead>\n",
       "    <tr style=\"text-align: right;\">\n",
       "      <th></th>\n",
       "      <th>userId</th>\n",
       "      <th>movieId</th>\n",
       "      <th>rating</th>\n",
       "    </tr>\n",
       "  </thead>\n",
       "  <tbody>\n",
       "    <tr>\n",
       "      <th>0</th>\n",
       "      <td>1</td>\n",
       "      <td>1</td>\n",
       "      <td>4</td>\n",
       "    </tr>\n",
       "    <tr>\n",
       "      <th>1</th>\n",
       "      <td>1</td>\n",
       "      <td>3</td>\n",
       "      <td>4</td>\n",
       "    </tr>\n",
       "    <tr>\n",
       "      <th>2</th>\n",
       "      <td>1</td>\n",
       "      <td>6</td>\n",
       "      <td>4</td>\n",
       "    </tr>\n",
       "    <tr>\n",
       "      <th>3</th>\n",
       "      <td>1</td>\n",
       "      <td>47</td>\n",
       "      <td>5</td>\n",
       "    </tr>\n",
       "    <tr>\n",
       "      <th>4</th>\n",
       "      <td>1</td>\n",
       "      <td>50</td>\n",
       "      <td>5</td>\n",
       "    </tr>\n",
       "  </tbody>\n",
       "</table>\n",
       "</div>"
      ],
      "text/plain": [
       "   userId  movieId rating\n",
       "0       1        1      4\n",
       "1       1        3      4\n",
       "2       1        6      4\n",
       "3       1       47      5\n",
       "4       1       50      5"
      ]
     },
     "execution_count": 12,
     "metadata": {},
     "output_type": "execute_result"
    }
   ],
   "source": [
    "#Investigate new DataFrame\n",
    "new_ratings_df.head()"
   ]
  },
  {
   "cell_type": "markdown",
   "metadata": {},
   "source": [
    "Now we will redo the same modeling process as above in order to find predictions for the above movies."
   ]
  },
  {
   "cell_type": "code",
   "execution_count": 13,
   "metadata": {},
   "outputs": [],
   "source": [
    "#Instansiate reader and data \n",
    "reader = Reader(rating_scale=(0, 5))\n",
    "data = Dataset.load_from_df(new_ratings_df, reader)"
   ]
  },
  {
   "cell_type": "code",
   "execution_count": 14,
   "metadata": {},
   "outputs": [],
   "source": [
    "#Train test split \n",
    "trainset, testset = train_test_split(data, test_size=.2)"
   ]
  },
  {
   "cell_type": "code",
   "execution_count": 15,
   "metadata": {},
   "outputs": [
    {
     "data": {
      "text/plain": [
       "<surprise.prediction_algorithms.matrix_factorization.SVD at 0x7faabc858470>"
      ]
     },
     "execution_count": 15,
     "metadata": {},
     "output_type": "execute_result"
    }
   ],
   "source": [
    "#Reinstantiate the model with the best parameters from GridSearch and fit on the trainset \n",
    "svdtuned2 = SVD(n_factors=80,\n",
    "               reg_all=0.06,\n",
    "               n_epochs=30,\n",
    "               lr_all=0.01)\n",
    "svdtuned2.fit(trainset)"
   ]
  },
  {
   "cell_type": "code",
   "execution_count": 16,
   "metadata": {},
   "outputs": [
    {
     "name": "stdout",
     "output_type": "stream",
     "text": [
      "user: 1000       item: 736        r_ui = None   est = 3.12   {'was_impossible': False}\n",
      "user: 1000       item: 163        r_ui = None   est = 3.60   {'was_impossible': False}\n",
      "user: 1000       item: 87192      r_ui = None   est = 3.58   {'was_impossible': False}\n"
     ]
    }
   ],
   "source": [
    "#Find predictions for the three movies that user with userId=1000 just rated\n",
    "print(svdtuned2.predict(1000,736))\n",
    "print(svdtuned2.predict(1000,163))\n",
    "print(svdtuned2.predict(1000,87192))\n"
   ]
  },
  {
   "cell_type": "markdown",
   "metadata": {},
   "source": [
    "Now we have predictions for User 1000's movies that it has rated so far. We have now seen how our model can generate new ratings, and formulate predictions for these ratings as well."
   ]
  },
  {
   "cell_type": "code",
   "execution_count": 17,
   "metadata": {},
   "outputs": [],
   "source": [
    "userids = new_ratings_df['userId'].unique()\n",
    "movieids = new_ratings_df['movieId'].unique()\n"
   ]
  },
  {
   "cell_type": "code",
   "execution_count": null,
   "metadata": {},
   "outputs": [],
   "source": [
    "dataframe = pd.DataFrame([])\n",
    "predictions = [] \n",
    "for u in userids:\n",
    "    for m in movieids:\n",
    "        predicted = svdtuned2.predict(u, m)\n",
    "        predictions.append(predicted[3])\n",
    "        dataframe = pd.DataFrame(predictions)"
   ]
  },
  {
   "cell_type": "code",
   "execution_count": 83,
   "metadata": {},
   "outputs": [
    {
     "data": {
      "text/plain": [
       "[4.522909378746318,\n",
       " 4.258081805889947,\n",
       " 4.446184991371387,\n",
       " 4.9073911779163994,\n",
       " 4.847513070324726,\n",
       " 4.393304482366593,\n",
       " 4.6948186551284,\n",
       " 4.720264973765332,\n",
       " 4.653126915110358,\n",
       " 4.5021677228309365,\n",
       " 4.33016907088773,\n",
       " 4.4476665895220036,\n",
       " 4.164643782680363,\n",
       " 4.158307751267257,\n",
       " 4.8580236980889415,\n",
       " 5,\n",
       " 4.0627353997062325,\n",
       " 4.314506864141284,\n",
       " 4.141790332198237,\n",
       " 4.980250761930403,\n",
       " 4.367795340849374,\n",
       " 3.8746558123427195,\n",
       " 4.7031053323890495,\n",
       " 4.391244399780332,\n",
       " 4.150843988387851,\n",
       " 4.304114473410468,\n",
       " 5,\n",
       " 4.128650719786598,\n",
       " 4.039609572691645,\n",
       " 4.857755940129005,\n",
       " 4.438494759377905,\n",
       " 4.2606645289359175,\n",
       " 4.739563482157812,\n",
       " 4.6138983827573385,\n",
       " 4.882776735940284,\n",
       " 3.7892227326114045,\n",
       " 4.579699746252436,\n",
       " 3.4827804781746754,\n",
       " 4.111804224583094,\n",
       " 3.5887170614341253,\n",
       " 3.7570357437769624,\n",
       " 4.662386767523976,\n",
       " 5,\n",
       " 4.846585136189218,\n",
       " 4.772498072186845,\n",
       " 4.4349157812156905,\n",
       " 3.457586049474302,\n",
       " 4.779200103161644,\n",
       " 4.595733914183566,\n",
       " 4.029970698740445,\n",
       " 4.147688644068152,\n",
       " 4.4713341697438915,\n",
       " 4.902412038484739,\n",
       " 4.887246424317864,\n",
       " 4.911034206154314,\n",
       " 4.703324297730647,\n",
       " 4.2480911844765625,\n",
       " 4.675776059196499,\n",
       " 4.009030505281046,\n",
       " 5,\n",
       " 4.956082992094303,\n",
       " 4.898321639399201,\n",
       " 4.749406056398658,\n",
       " 4.861949525319068,\n",
       " 4.979346350291115,\n",
       " 4.859357125563193,\n",
       " 4.870189938458013,\n",
       " 4.382921174547952,\n",
       " 4.563302606825435,\n",
       " 4.578800136339467,\n",
       " 4.893793956687516,\n",
       " 4.968440953832865,\n",
       " 4.486598068921388,\n",
       " 5,\n",
       " 4.522542888863582,\n",
       " 4.495621999615832,\n",
       " 4.924208155207481,\n",
       " 4.581990682414782,\n",
       " 4.6294834207359274,\n",
       " 4.8227858150758625,\n",
       " 4.634317281073449,\n",
       " 4.656180396964681,\n",
       " 4.506134832862678,\n",
       " 3.9034575360894563,\n",
       " 3.669402241067882,\n",
       " 4.099332458696486,\n",
       " 4.339187157678421,\n",
       " 4.40260007333428,\n",
       " 3.718822077035657,\n",
       " 3.7390371630948653,\n",
       " 3.9108348477155657,\n",
       " 4.29937287295311,\n",
       " 4.68572570254448,\n",
       " 4.446835066636859,\n",
       " 3.1670273161894387,\n",
       " 4.047035387252056,\n",
       " 4.964330790725308,\n",
       " 4.041944736614989,\n",
       " 3.831960778616488,\n",
       " 3.681738282140632,\n",
       " 4.46910873372127,\n",
       " 4.460957347315161,\n",
       " 4.392325051660098,\n",
       " 4.449752029437336,\n",
       " 4.174271121270931,\n",
       " 4.658994368195268,\n",
       " 4.563662264457579,\n",
       " 3.959554792428258,\n",
       " 3.7692320822810745,\n",
       " 4.255882318640876,\n",
       " 4.892326769399052,\n",
       " 4.177792251411195,\n",
       " 3.794476322541897,\n",
       " 4.277701348019196,\n",
       " 4.024479352927515,\n",
       " 4.158571047754486,\n",
       " 4.15681025886037,\n",
       " 4.571923749008873,\n",
       " 4.476610195212912,\n",
       " 4.1893927428971915,\n",
       " 4.1149209973300165,\n",
       " 4.681166097134415,\n",
       " 4.27908815984995,\n",
       " 4.2212210641878976,\n",
       " 2.936518304445446,\n",
       " 4.388971283876943,\n",
       " 3.9169004107922127,\n",
       " 4.476904446672543,\n",
       " 5,\n",
       " 2.5643779336248027,\n",
       " 4.100782710959772,\n",
       " 4.370931299787797,\n",
       " 4.5242607226489335,\n",
       " 4.559108239351106,\n",
       " 4.229705014512766,\n",
       " 4.172338074761263,\n",
       " 4.7059932082768565,\n",
       " 3.3652554258971503,\n",
       " 3.9316595516735684,\n",
       " 4.201152794285543,\n",
       " 4.826726557009368,\n",
       " 3.5381266394203132,\n",
       " 4.630453424901467,\n",
       " 4.891374874234416,\n",
       " 4.642973400016422,\n",
       " 4.5680719379838965,\n",
       " 3.732355861029341,\n",
       " 3.1789568475225285,\n",
       " 3.74112822650224,\n",
       " 4.417885161891737,\n",
       " 3.7860017768593703,\n",
       " 3.886768988223846,\n",
       " 4.844306451821208,\n",
       " 4.382582768406663,\n",
       " 4.361265539996193,\n",
       " 4.876129190965481,\n",
       " 4.56498829969658,\n",
       " 3.7529109501438405,\n",
       " 4.75590553846283,\n",
       " 4.601384976643302,\n",
       " 4.287211931282764,\n",
       " 4.668979437980182,\n",
       " 4.654488932497434,\n",
       " 4.689320347955168,\n",
       " 4.4310234115986455,\n",
       " 5,\n",
       " 4.192132429742698,\n",
       " 4.503292647065616,\n",
       " 4.842869634911781,\n",
       " 4.431559429916647,\n",
       " 4.858080839198956,\n",
       " 4.431086326432669,\n",
       " 4.6017951392762875,\n",
       " 4.606653446837011,\n",
       " 4.781308798582267,\n",
       " 4.616328746157993,\n",
       " 4.458523336401493,\n",
       " 3.2742285102674544,\n",
       " 3.631967189214323,\n",
       " 4.614678379369122,\n",
       " 3.69645947306221,\n",
       " 4.555129401861251,\n",
       " 3.6669970251649575,\n",
       " 3.538804613311519,\n",
       " 4.32470907413039,\n",
       " 4.710777358214768,\n",
       " 4.341943235677979,\n",
       " 3.8409540368406665,\n",
       " 4.060159444380785,\n",
       " 4.082821099425519,\n",
       " 4.578421227619165,\n",
       " 4.051118362617288,\n",
       " 4.102221227037182,\n",
       " 4.633592552005594,\n",
       " 4.202354059346161,\n",
       " 4.712264000159169,\n",
       " 4.508279505293407,\n",
       " 3.5062129954215915,\n",
       " 4.23632920855591,\n",
       " 4.040806763523598,\n",
       " 4.9372838766389675,\n",
       " 4.2937704261543965,\n",
       " 4.909682654682216,\n",
       " 4.234526406810976,\n",
       " 4.3893908371189605,\n",
       " 4.515255119774418,\n",
       " 4.703357652988615,\n",
       " 4.734367059865328,\n",
       " 4.717056883810628,\n",
       " 4.573990313111103,\n",
       " 4.591100347594444,\n",
       " 4.30502452744181,\n",
       " 4.485046829080286,\n",
       " 4.52714921034071,\n",
       " 4.530372495558326,\n",
       " 4.315007273559731,\n",
       " 4.581547953957547,\n",
       " 4.853867579268973,\n",
       " 4.5139077483220005,\n",
       " 4.309177688468321,\n",
       " 3.8923626008748324,\n",
       " 4.466544293068819,\n",
       " 4.334302736459523,\n",
       " 4.280049409916752,\n",
       " 4.788905001654177,\n",
       " 4.8334499551366195,\n",
       " 4.87688048427027,\n",
       " 4.71983315643402,\n",
       " 4.62704220933578,\n",
       " 4.759281637537972,\n",
       " 4.755479023561099,\n",
       " 5,\n",
       " 4.753918564171633,\n",
       " 4.63317449264603,\n",
       " 4.931709725414654,\n",
       " 4.127901547297685,\n",
       " 4.5523083932209945,\n",
       " 4.518608165320675,\n",
       " 4.930722133282464,\n",
       " 4.686716440224047,\n",
       " 4.4748961943684336,\n",
       " 4.62213973775225,\n",
       " 4.2647899563753,\n",
       " 4.402759397640466,\n",
       " 4.396507425666145,\n",
       " 4.67651209114196,\n",
       " 5,\n",
       " 4.986668822746414,\n",
       " 4.657494373809152,\n",
       " 4.8320539608834645,\n",
       " 4.892911921751895,\n",
       " 4.730640510888406,\n",
       " 4.755498076367477,\n",
       " 4.827133112451393,\n",
       " 4.033251080481026,\n",
       " 4.757817310497999,\n",
       " 4.494063861025111,\n",
       " 3.722970091153199,\n",
       " 4.352124061058622,\n",
       " 4.75415738559898,\n",
       " 4.470923899285928,\n",
       " 4.12967436779934,\n",
       " 4.230232089508857,\n",
       " 4.293991111309627,\n",
       " 4.323836270464635,\n",
       " 4.420838184302829,\n",
       " 4.251372441203561,\n",
       " 4.595907645105008,\n",
       " 4.971262930158296,\n",
       " 4.492521954289301,\n",
       " 4.258807709450797,\n",
       " 4.390240914027539,\n",
       " 4.182635270754339,\n",
       " 4.862709864011571,\n",
       " 4.8968210633373355,\n",
       " 4.4658780033515795,\n",
       " 4.042782798498437,\n",
       " 4.615305597051619,\n",
       " 4.299227827833201,\n",
       " 4.028656796766535,\n",
       " 4.508285997313272,\n",
       " 4.481549963189449,\n",
       " 4.318383645623129,\n",
       " 3.3488060860584823,\n",
       " 4.833972260802069,\n",
       " 4.460581909415659,\n",
       " 4.876044880311761,\n",
       " 4.818351142268699,\n",
       " 4.173113150094077,\n",
       " 4.32965156417626,\n",
       " 4.6496229165593155,\n",
       " 4.201365414212206,\n",
       " 4.522713185790751,\n",
       " 5,\n",
       " 3.564920897826149,\n",
       " 4.818934071482642,\n",
       " 4.440911670340565,\n",
       " 4.773805803499391,\n",
       " 4.507865572006425,\n",
       " 4.607079744297722,\n",
       " 4.283795955425551,\n",
       " 4.5530383246337935,\n",
       " 4.43075737462029,\n",
       " 4.625580880591545,\n",
       " 3.916056996079671,\n",
       " 4.861294166346457,\n",
       " 4.718380974282639,\n",
       " 4.446769819052443,\n",
       " 4.234716779251395,\n",
       " 4.245653997290269,\n",
       " 4.54786929237785,\n",
       " 4.428368260321131,\n",
       " 4.11201379170589,\n",
       " 3.717228134924267,\n",
       " 3.7457283238942507,\n",
       " 4.117969940256764,\n",
       " 4.444100269268048,\n",
       " 4.908526305101857,\n",
       " 4.645128068671273,\n",
       " 3.7937816140214355,\n",
       " 3.893213143831137,\n",
       " 4.129592101631613,\n",
       " 4.898797146760342,\n",
       " 3.6780338576939493,\n",
       " 4.316391960331773,\n",
       " 4.368848172902218,\n",
       " 3.8549626172995985,\n",
       " 4.146054639104508,\n",
       " 3.354924928855982,\n",
       " 3.7280811250933072,\n",
       " 3.1941958991879282,\n",
       " 4.063213650674682,\n",
       " 4.263659803101727,\n",
       " 4.281002566886317,\n",
       " 4.273278812937136,\n",
       " 4.112839191842445,\n",
       " 4.323611264219022,\n",
       " 3.6009197487778954,\n",
       " 3.293486055199986,\n",
       " 3.581564377962794,\n",
       " 4.278298345977105,\n",
       " 4.0420976720551804,\n",
       " 3.663580348969418,\n",
       " 4.011711810493463,\n",
       " 4.462756715232064,\n",
       " 3.772701557655896,\n",
       " 3.4115659996708696,\n",
       " 3.33300890659729,\n",
       " 4.066698413237785,\n",
       " 4.616096190075961,\n",
       " 3.79272082631253,\n",
       " 3.765243400490104,\n",
       " 3.881533563739247,\n",
       " 4.564768528627104,\n",
       " 3.120362745853396,\n",
       " 4.373631263453468,\n",
       " 4.56268588532438,\n",
       " 4.313147692339036,\n",
       " 3.975011021893528,\n",
       " 4.046154739823307,\n",
       " 4.570302426764687,\n",
       " 4.15619199811706,\n",
       " 4.735403139896634,\n",
       " 3.9206530476006116,\n",
       " 3.7224075940146615,\n",
       " 5,\n",
       " 3.7363351082908034,\n",
       " 4.242218644406465,\n",
       " 4.505765487438772,\n",
       " 4.009586639188547,\n",
       " 3.552864631894926,\n",
       " 3.7373091065719852,\n",
       " 4.349115267212512,\n",
       " 3.215113308168993,\n",
       " 4.5920682465459315,\n",
       " 3.79558509495446,\n",
       " 2.861441023700869,\n",
       " 3.9957915903143153,\n",
       " 3.948057854524659,\n",
       " 3.9707157278639813,\n",
       " 4.26959641750776,\n",
       " 3.315897291876264,\n",
       " 3.70707640889475,\n",
       " 3.035792482867467,\n",
       " 4.089864517038563,\n",
       " 4.113215739314656,\n",
       " 3.4563865991229967,\n",
       " 3.697371776859428,\n",
       " 4.052729413062285,\n",
       " 4.3951326583216925,\n",
       " 3.7190637093307326,\n",
       " 4.1571432495018295,\n",
       " 4.811415139344012,\n",
       " 4.396585007735926,\n",
       " 3.761857354265591,\n",
       " 3.861486682736164,\n",
       " 4.031070893623331,\n",
       " 4.192199019224673,\n",
       " 3.062027291237724,\n",
       " 3.728251222309284,\n",
       " 4.1420050294634745,\n",
       " 4.785028345833836,\n",
       " 4.734294795394103,\n",
       " 4.347914679822326,\n",
       " 4.373294932284451,\n",
       " 4.461549373562447,\n",
       " 3.4990505730078625,\n",
       " 4.007637625222394,\n",
       " 3.3499383169691583,\n",
       " 3.153302878600878,\n",
       " 3.5625790926844743,\n",
       " 4.56768430283632,\n",
       " 3.8131968448034117,\n",
       " 4.0000521797940545,\n",
       " 4.129006770591799,\n",
       " 4.347049885119719,\n",
       " 3.9732027964491397,\n",
       " 3.3748445714452378,\n",
       " 4.094001171232904,\n",
       " 4.2269241135281215,\n",
       " 4.217385624504042,\n",
       " 3.7602324867978933,\n",
       " 4.655731844759459,\n",
       " 4.731152578285168,\n",
       " 3.806878171938422,\n",
       " 4.699711325119037,\n",
       " 4.738453779173584,\n",
       " 3.9871281878379605,\n",
       " 4.012466528054309,\n",
       " 4.85998290957867,\n",
       " 4.9930729423419145,\n",
       " 3.655976732389898,\n",
       " 3.709286036362308,\n",
       " 5,\n",
       " 4.681054227425593,\n",
       " 4.666571712006313,\n",
       " 4.06449751496403,\n",
       " 4.343042832123565,\n",
       " 4.434784339468844,\n",
       " 4.889182242159185,\n",
       " 4.966121726746328,\n",
       " 5,\n",
       " 4.6983241628261325,\n",
       " 5,\n",
       " 4.8214065310194965,\n",
       " 5,\n",
       " 5,\n",
       " 4.767239894279187,\n",
       " 4.58166903466255,\n",
       " 4.918617088359606,\n",
       " 4.825448494686362,\n",
       " 4.680534925315167,\n",
       " 4.941712255247067,\n",
       " 4.514371455125448,\n",
       " 4.86426398444035,\n",
       " 4.163604397376522,\n",
       " 4.05002803011903,\n",
       " 3.8895126653328447,\n",
       " 4.458854431740558,\n",
       " 4.215402812429249,\n",
       " 4.487684789592397,\n",
       " 3.4006915563543973,\n",
       " 4.04641345113393,\n",
       " 4.7821963901580276,\n",
       " 4.559795594767789,\n",
       " 4.198747421270393,\n",
       " 4.487473109548096,\n",
       " 4.57447438950049,\n",
       " 3.7589113387942685,\n",
       " 3.7042796722684947,\n",
       " 4.642106312651219,\n",
       " 4.157962273648539,\n",
       " 3.65147053462756,\n",
       " 4.450394306756435,\n",
       " 4.369348117414066,\n",
       " 4.620543061158749,\n",
       " 4.227515955061989,\n",
       " 3.616811356173302,\n",
       " 3.7391739956559062,\n",
       " 2.971557596025249,\n",
       " 4.5620059020768595,\n",
       " 3.761373932138425,\n",
       " 4.516544821502978,\n",
       " 4.298226696957705,\n",
       " 4.477467667832497,\n",
       " 4.9102090097458175,\n",
       " 3.544260422997303,\n",
       " 4.527271414394172,\n",
       " 3.58917009388154,\n",
       " 4.786079456312523,\n",
       " 4.69399968120423,\n",
       " 4.786227371375618,\n",
       " 4.4264969493141555,\n",
       " 3.80569488249746,\n",
       " 4.887785746053582,\n",
       " 4.399257776260784,\n",
       " 4.634779751753529,\n",
       " 4.611194663676863,\n",
       " 4.697707184967936,\n",
       " 4.488594620774903,\n",
       " 4.424226056379555,\n",
       " 3.4279173137907755,\n",
       " 3.818192422274291,\n",
       " 4.4800609758357925,\n",
       " 4.5295679113891705,\n",
       " 4.569801043894602,\n",
       " 4.974405860534989,\n",
       " 4.630196074754722,\n",
       " 4.700357572559703,\n",
       " 4.302720538775655,\n",
       " 4.0554720380717475,\n",
       " 4.234997262803362,\n",
       " 4.224861923402981,\n",
       " 4.577905340965836,\n",
       " 3.6682837074029617,\n",
       " 4.2279856608434665,\n",
       " 3.7122958399996477,\n",
       " 4.31997709384541,\n",
       " 4.573708238877425,\n",
       " 3.94436471084033,\n",
       " 4.0928162365793925,\n",
       " 4.485002842657783,\n",
       " 3.9042395455483385,\n",
       " 4.488252616174966,\n",
       " 4.715147023176158,\n",
       " 4.770211175175477,\n",
       " 4.7318652835880926,\n",
       " 3.7535076489882324,\n",
       " 4.308155058359984,\n",
       " 4.09764796791484,\n",
       " 4.111601108765468,\n",
       " 4.702124477838294,\n",
       " 4.288174714362654,\n",
       " 4.80784401966677,\n",
       " 3.6831815148800775,\n",
       " 4.172194361812105,\n",
       " 3.8428177838393776,\n",
       " 4.076708384225896,\n",
       " 4.829336774861356,\n",
       " 4.692021729047242,\n",
       " 4.2608981583802885,\n",
       " 4.4995289273501955,\n",
       " 4.735156688013695,\n",
       " 3.1202399798328293,\n",
       " 4.015846259585145,\n",
       " 4.567848758812453,\n",
       " 4.810951763369588,\n",
       " 4.200932823486748,\n",
       " 4.232073313335332,\n",
       " 3.8501185748753985,\n",
       " 3.2179561673115193,\n",
       " 4.296501712543904,\n",
       " 4.897186279626429,\n",
       " 4.280858681777492,\n",
       " 4.96356569765536,\n",
       " 4.4322834680554966,\n",
       " 3.6641815163405798,\n",
       " 4.437693352639508,\n",
       " 4.521052020867003,\n",
       " 4.191844846329284,\n",
       " 4.418234890581205,\n",
       " 4.4761945379091435,\n",
       " 4.370090578474407,\n",
       " 4.176112662930741,\n",
       " 4.711706128339667,\n",
       " 3.7812146866920404,\n",
       " 4.558156532612054,\n",
       " 4.55191545814502,\n",
       " 4.084428134546631,\n",
       " 4.746851264965101,\n",
       " 4.4896923716756,\n",
       " 4.260149181892075,\n",
       " 4.583658743921977,\n",
       " 3.870862073554172,\n",
       " 4.7539369041486434,\n",
       " 4.496633023005855,\n",
       " 3.9818946215190794,\n",
       " 4.505727172793389,\n",
       " 3.5292603530885422,\n",
       " 4.526989530062858,\n",
       " 3.991368600260347,\n",
       " 4.354185955680112,\n",
       " 3.5731016781314144,\n",
       " 4.41755865292777,\n",
       " 4.194567146977264,\n",
       " 4.5530584200377895,\n",
       " 4.417912459571725,\n",
       " 4.679000001383766,\n",
       " 4.454290318953395,\n",
       " 3.7683477135102814,\n",
       " 4.688430260910615,\n",
       " 4.550872576257498,\n",
       " 4.740018083928394,\n",
       " 4.4201990487681515,\n",
       " 4.221894987637365,\n",
       " 4.021237517463141,\n",
       " 4.142700338187102,\n",
       " 4.5588432373679035,\n",
       " 3.5711282361679397,\n",
       " 4.1327024493832765,\n",
       " 4.325109091530504,\n",
       " 4.945608812633265,\n",
       " 4.358359142853411,\n",
       " 3.9087324551345928,\n",
       " 4.82986566472653,\n",
       " 4.441103851497635,\n",
       " 4.383674717939103,\n",
       " 4.272733062578999,\n",
       " 3.342653886979444,\n",
       " 4.369676190322293,\n",
       " 4.196450102005461,\n",
       " 4.5120957221329565,\n",
       " 4.388285926190051,\n",
       " 4.536430745599125,\n",
       " 4.526135757850777,\n",
       " 4.658874001958766,\n",
       " 4.729037360295124,\n",
       " 4.584223726287133,\n",
       " 4.426045789156967,\n",
       " 4.638263429398859,\n",
       " 4.926959067234167,\n",
       " 4.7835523972806495,\n",
       " 4.442671565723443,\n",
       " 3.675005000660609,\n",
       " 4.313194083904856,\n",
       " 4.0511154647034715,\n",
       " 3.7522078392601412,\n",
       " 4.556877882383074,\n",
       " 4.184622742044469,\n",
       " 4.493031716618877,\n",
       " 4.423156503167427,\n",
       " 4.715460230644505,\n",
       " 4.480689383882473,\n",
       " 4.5048880005016185,\n",
       " 4.574628957142848,\n",
       " 4.751614013482259,\n",
       " 4.696045327204807,\n",
       " 3.7711834659828205,\n",
       " 4.527087218241133,\n",
       " 4.632493772094705,\n",
       " 4.404599841370974,\n",
       " 4.2051699355440695,\n",
       " 4.513569543365726,\n",
       " 4.569427924109162,\n",
       " 4.460179930787478,\n",
       " 3.6032260187875496,\n",
       " 4.410529301453956,\n",
       " 4.677721317949729,\n",
       " 4.161229035222101,\n",
       " 4.710414949054618,\n",
       " 3.9054990486742693,\n",
       " 4.244086984977208,\n",
       " 3.328681927191953,\n",
       " 4.576487955045256,\n",
       " 4.0909548409993945,\n",
       " 3.7829758427373963,\n",
       " 4.78197994912061,\n",
       " 4.61716515090371,\n",
       " 3.7987921080606957,\n",
       " 3.989409427576644,\n",
       " 3.8611842349239756,\n",
       " 4.4246188933475405,\n",
       " 4.755008475662919,\n",
       " 3.922146725956294,\n",
       " 4.373616384314393,\n",
       " 3.9927077438528316,\n",
       " 4.0500202065837305,\n",
       " 4.368838778604191,\n",
       " 4.235621361060401,\n",
       " 3.9919214054574077,\n",
       " 4.603791219512644,\n",
       " 4.216988545779716,\n",
       " 4.2060285656425584,\n",
       " 4.594831873198322,\n",
       " 4.117234266242122,\n",
       " 3.912917433567553,\n",
       " 4.262387631214804,\n",
       " 4.3449975098557605,\n",
       " 4.357834659452827,\n",
       " 4.421386740062343,\n",
       " 4.736607260591754,\n",
       " 4.298453608578053,\n",
       " 4.385857249020455,\n",
       " 3.8732067880002936,\n",
       " 3.7848186942668525,\n",
       " 4.170323123655523,\n",
       " 4.215533385975923,\n",
       " 4.632276883805323,\n",
       " 4.014711854986052,\n",
       " 4.328770773752178,\n",
       " 4.038547602658371,\n",
       " 4.987440937739518,\n",
       " 4.660417043143264,\n",
       " 4.720931531098475,\n",
       " 4.470867642513943,\n",
       " 4.5683101929290935,\n",
       " 4.465160461166786,\n",
       " 4.090529292711779,\n",
       " 4.837446262341404,\n",
       " 4.72869912224157,\n",
       " 4.195615503997015,\n",
       " 4.625412448987957,\n",
       " 4.350666803543469,\n",
       " 4.682186877936081,\n",
       " 4.55657512582081,\n",
       " 4.366385983521935,\n",
       " 4.018703360277764,\n",
       " 4.073707508771703,\n",
       " 4.562733408852299,\n",
       " 4.495654066992095,\n",
       " 3.9057510560345174,\n",
       " 4.655093536636879,\n",
       " 4.65938824772513,\n",
       " 4.354024043224017,\n",
       " 4.203951086636795,\n",
       " 4.628850884253619,\n",
       " 4.7367036508217115,\n",
       " 4.722757727024085,\n",
       " 4.598007105690305,\n",
       " 4.649931036641987,\n",
       " 4.8221900275390155,\n",
       " 3.307568624985392,\n",
       " 4.047879993553777,\n",
       " 4.194238679995483,\n",
       " 3.2159248159045464,\n",
       " 3.9142147032445895,\n",
       " 3.7345807875652683,\n",
       " 3.225104372846044,\n",
       " 4.599609042818183,\n",
       " 4.443363400809094,\n",
       " 4.083278396849621,\n",
       " 4.840131502889487,\n",
       " 3.598442509877683,\n",
       " 3.3904523642673072,\n",
       " 4.249456254164474,\n",
       " 3.4432353157868154,\n",
       " 3.9871175873083913,\n",
       " 4.850871881676494,\n",
       " 4.8909568846073554,\n",
       " 4.5960550063024215,\n",
       " 4.835307377438809,\n",
       " 3.094109198366494,\n",
       " 4.917574117880035,\n",
       " 3.681424307899326,\n",
       " 3.9086012945199418,\n",
       " 4.28018196926336,\n",
       " 4.5863639283454125,\n",
       " 4.909808128703576,\n",
       " 4.35772624358018,\n",
       " 4.7429058174692615,\n",
       " 4.5480469167820825,\n",
       " 4.702814385546994,\n",
       " 4.263739641040882,\n",
       " 4.486066546876857,\n",
       " 4.128615354731395,\n",
       " 4.227161503818957,\n",
       " 4.0667404893641645,\n",
       " 4.084691950275238,\n",
       " 3.2649831602957,\n",
       " 3.994765823131178,\n",
       " 4.186293797098291,\n",
       " 3.856256619013675,\n",
       " 4.038534784594916,\n",
       " 3.985799848471101,\n",
       " 3.929403978465436,\n",
       " 4.699315889459147,\n",
       " 3.688222494203589,\n",
       " 4.232443375314344,\n",
       " 3.371316152435865,\n",
       " 4.371260736588689,\n",
       " 4.116430845814449,\n",
       " 4.23549696956147,\n",
       " 3.6781148437799875,\n",
       " 2.891056818698207,\n",
       " 2.602751209994767,\n",
       " 2.869806485074256,\n",
       " 4.211004553057442,\n",
       " 4.291340332054122,\n",
       " 4.203298032714562,\n",
       " 4.024994947372691,\n",
       " 4.016813340001718,\n",
       " 3.431206486043026,\n",
       " 3.6191871366473305,\n",
       " 4.251687409372531,\n",
       " 4.125971954980723,\n",
       " 4.185469863936706,\n",
       " 4.57628424199125,\n",
       " 3.998837526899233,\n",
       " 4.206960435646041,\n",
       " 4.02229595212547,\n",
       " 3.544518621802397,\n",
       " 3.4844945129107048,\n",
       " 3.8080422291372518,\n",
       " 3.9332879433999954,\n",
       " 4.6895850629340945,\n",
       " 4.220643700426001,\n",
       " 3.4404822813623754,\n",
       " 3.0083632499197366,\n",
       " 4.819305826565693,\n",
       " 3.2378456063897953,\n",
       " 3.7667146655161767,\n",
       " 4.163448382613656,\n",
       " 3.466236288106827,\n",
       " 4.458167840046502,\n",
       " 3.6007909973806473,\n",
       " 4.162253143440952,\n",
       " 4.43316109924338,\n",
       " 4.327503339059808,\n",
       " 3.4660862431171515,\n",
       " 3.0397410662254134,\n",
       " 4.087569455849634,\n",
       " 4.441136386754082,\n",
       " 3.7154750482530914,\n",
       " 4.334493424536168,\n",
       " 3.6649657473652604,\n",
       " 3.4332810673433802,\n",
       " 4.008803866500035,\n",
       " 4.214877567966573,\n",
       " 4.264343367210546,\n",
       " 4.569012105403595,\n",
       " 3.426226842516486,\n",
       " 4.020401458796434,\n",
       " 4.0397394091838805,\n",
       " 4.430027584091325,\n",
       " 4.434296287163054,\n",
       " 4.040445359376666,\n",
       " 4.289387853789015,\n",
       " 4.3278619230623105,\n",
       " 4.018534487050351,\n",
       " 4.737535397067514,\n",
       " 4.248716458753238,\n",
       " 3.9710335892860464,\n",
       " 4.26448837453018,\n",
       " 4.290450155148667,\n",
       " 4.11072210336403,\n",
       " 3.520491446505323,\n",
       " 3.7746652672441536,\n",
       " 3.8437060673690677,\n",
       " 4.041734315280337,\n",
       " 4.663181464490454,\n",
       " 4.393272479832779,\n",
       " 3.9290968604251653,\n",
       " 4.310993834776988,\n",
       " 4.142682271420568,\n",
       " 4.068602470159749,\n",
       " 4.024410128007574,\n",
       " 3.6380437089679414,\n",
       " 4.280072383957429,\n",
       " 4.047606525750737,\n",
       " 3.380720921959657,\n",
       " 3.566924113629644,\n",
       " 3.990487484401218,\n",
       " 3.8886155672943,\n",
       " 4.105634561994448,\n",
       " 3.8646577697176503,\n",
       " 3.9067234029526463,\n",
       " 3.8799655095378873,\n",
       " 3.275145573902011,\n",
       " 2.760986322745813,\n",
       " 4.114951355570943,\n",
       " 3.951476048560985,\n",
       " 4.101455724142678,\n",
       " 3.4557292892705425,\n",
       " 3.1388559276841,\n",
       " 3.754846994713784,\n",
       " 3.9445902340983454,\n",
       " 2.890470360878882,\n",
       " 3.4162136560131904,\n",
       " 4.099791333040226,\n",
       " 4.062961462701702,\n",
       " 4.8859622106804474,\n",
       " 4.144683962261917,\n",
       " 4.854710551769883,\n",
       " 3.1550298059263646,\n",
       " 3.9009651643970473,\n",
       " 4.406003210161178,\n",
       " 4.386600322427857,\n",
       " 4.6361116505894175,\n",
       " 3.6377051034899437,\n",
       " 4.367890129483826,\n",
       " 4.116481735143961,\n",
       " 4.138993235518794,\n",
       " 4.050732995288161,\n",
       " 3.8787583030635844,\n",
       " 4.26422296010257,\n",
       " 4.3966884405491085,\n",
       " 4.501902561698443,\n",
       " 4.594794933577761,\n",
       " 3.50904769505652,\n",
       " 3.715585520788945,\n",
       " 4.753119298234984,\n",
       " 3.043213968563588,\n",
       " 4.133595402297193,\n",
       " 3.9313114873232826,\n",
       " 3.9082551925126974,\n",
       " 3.6094096766029726,\n",
       " 3.8579945464924976,\n",
       " 4.212728234879117,\n",
       " 4.24715369593314,\n",
       " 3.410342648907312,\n",
       " 4.048263887844731,\n",
       " 4.296799581940815,\n",
       " 4.529085370468223,\n",
       " 4.390647493651025,\n",
       " 3.6964454086271767,\n",
       " 4.159804140099216,\n",
       " 4.494750957950017,\n",
       " 4.640382812072938,\n",
       " 4.517610511263735,\n",
       " 4.211617167351356,\n",
       " 4.103088268111247,\n",
       " 3.907614294061473,\n",
       " 4.506974851198745,\n",
       " 3.8428109369334966,\n",
       " 4.370238163972144,\n",
       " 3.965407884674624,\n",
       " 4.514172094951799,\n",
       " 4.186061695972497,\n",
       " 3.984724584168486,\n",
       " 4.18225862633506,\n",
       " 3.458025926154005,\n",
       " 3.79538431075729,\n",
       " 4.837197002861619,\n",
       " 4.208002790839259,\n",
       " 4.098198511099237,\n",
       " 4.282532456866615,\n",
       " 3.8821157788125333,\n",
       " 4.104811681089755,\n",
       " 3.9798817533308966,\n",
       " 4.1282900209397395,\n",
       " 3.8288148744185957,\n",
       " 3.398239770499857,\n",
       " 3.5053939603086044,\n",
       " 3.8677287854999616,\n",
       " 4.428543038186328,\n",
       " 4.796630110005991,\n",
       " 3.817544912938369,\n",
       " 3.755912721418701,\n",
       " 3.650249562114801,\n",
       " 3.8266410699367324,\n",
       " 4.381725014822632,\n",
       " 4.416766257020606,\n",
       " 4.4047488433128015,\n",
       " 4.400080158580558,\n",
       " 4.929646009282693,\n",
       " 3.581569909262849,\n",
       " 4.34641353297077,\n",
       " 3.8742613786674744,\n",
       " 4.0646297691650295,\n",
       " 4.226930730121414,\n",
       " 4.014462350718786,\n",
       " 4.292884054751255,\n",
       " 3.5124017038704727,\n",
       " 4.417187584055312,\n",
       " 4.368175063715391,\n",
       " 3.4526185252776913,\n",
       " 3.631471980584139,\n",
       " 3.914020278347541,\n",
       " 4.453866306212305,\n",
       " 4.277016449922477,\n",
       " 4.603963922938256,\n",
       " 3.5769661236187726,\n",
       " 4.057769108524458,\n",
       " 3.99538821123939,\n",
       " 3.8953446540000796,\n",
       " 3.5784511265977206,\n",
       " 3.4016173248745805,\n",
       " 4.041179109273031,\n",
       " 3.820759212139668,\n",
       " 3.8460930433184135,\n",
       " 4.016142358469612,\n",
       " 3.7269620126786873,\n",
       " 3.78709850930727,\n",
       " 4.30445680096387,\n",
       " 4.381394542836182,\n",
       " 3.9842850056326773,\n",
       " 3.803637893806789,\n",
       " 3.7964997348552147,\n",
       " 3.9207331082862846,\n",
       " 3.907087672290099,\n",
       " 4.343002668525781,\n",
       " 3.9719131852880905,\n",
       " 4.361210172989852,\n",
       " 4.773127162295698,\n",
       " 4.455974316254272,\n",
       " 4.132970668329504,\n",
       " 4.487847337733548,\n",
       " 4.827811986603138,\n",
       " 4.429169375452367,\n",
       " 4.389055964025891,\n",
       " 4.121687413667541,\n",
       " 4.491089670863399,\n",
       " 3.4387903320847917,\n",
       " 3.9542469327876044,\n",
       " 4.1679282572275795,\n",
       " 2.994188956742514,\n",
       " 4.255793210343427,\n",
       " 4.096464252037635,\n",
       " 3.7487611128715543,\n",
       " 3.6389751953182605,\n",
       " ...]"
      ]
     },
     "execution_count": 83,
     "metadata": {},
     "output_type": "execute_result"
    }
   ],
   "source": [
    "dataframe"
   ]
  },
  {
   "cell_type": "code",
   "execution_count": 26,
   "metadata": {
    "scrolled": true
   },
   "outputs": [
    {
     "data": {
      "text/plain": [
       "2.5044760053728927"
      ]
     },
     "execution_count": 26,
     "metadata": {},
     "output_type": "execute_result"
    }
   ],
   "source": [
    "estimated = svdtuned2.predict(1000,736)[3]\n",
    "estimated"
   ]
  },
  {
   "cell_type": "code",
   "execution_count": null,
   "metadata": {},
   "outputs": [],
   "source": [
    "##Post Modeling EDA \n",
    "\n",
    "# have to double loop through all the users for each item and loop through movieID for each item \n",
    "# estimated = svdtuned.predict(1,1)[3]\n",
    "# estimated"
   ]
  },
  {
   "cell_type": "code",
   "execution_count": null,
   "metadata": {},
   "outputs": [],
   "source": [
    "svdtuned.predict(1,1)\n",
    "#do post model EDA on userId, movieID and estimated rating \n",
    "#is there popularity bias \n",
    "#can do a histogram of all the errors - distribution of the errors (leave to end)"
   ]
  }
 ],
 "metadata": {
  "kernelspec": {
   "display_name": "learn-env",
   "language": "python",
   "name": "learn-env"
  },
  "language_info": {
   "codemirror_mode": {
    "name": "ipython",
    "version": 3
   },
   "file_extension": ".py",
   "mimetype": "text/x-python",
   "name": "python",
   "nbconvert_exporter": "python",
   "pygments_lexer": "ipython3",
   "version": "3.6.9"
  }
 },
 "nbformat": 4,
 "nbformat_minor": 4
}
