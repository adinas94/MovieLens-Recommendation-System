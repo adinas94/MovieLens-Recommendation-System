{
 "cells": [
  {
   "cell_type": "markdown",
   "metadata": {},
   "source": [
    "### Post modeling EDA"
   ]
  },
  {
   "cell_type": "code",
   "execution_count": 1,
   "metadata": {},
   "outputs": [],
   "source": [
    "#Import relevant packages\n",
    "import pandas as pd\n",
    "import seaborn as sns\n",
    "import numpy as np\n",
    "\n",
    "import matplotlib.pyplot as plt\n",
    "%matplotlib inline"
   ]
  },
  {
   "cell_type": "code",
   "execution_count": 2,
   "metadata": {},
   "outputs": [
    {
     "data": {
      "text/html": [
       "<div>\n",
       "<style scoped>\n",
       "    .dataframe tbody tr th:only-of-type {\n",
       "        vertical-align: middle;\n",
       "    }\n",
       "\n",
       "    .dataframe tbody tr th {\n",
       "        vertical-align: top;\n",
       "    }\n",
       "\n",
       "    .dataframe thead th {\n",
       "        text-align: right;\n",
       "    }\n",
       "</style>\n",
       "<table border=\"1\" class=\"dataframe\">\n",
       "  <thead>\n",
       "    <tr style=\"text-align: right;\">\n",
       "      <th></th>\n",
       "      <th>Unnamed: 0</th>\n",
       "      <th>userId</th>\n",
       "      <th>movieId</th>\n",
       "      <th>estimatedrating</th>\n",
       "    </tr>\n",
       "  </thead>\n",
       "  <tbody>\n",
       "    <tr>\n",
       "      <th>0</th>\n",
       "      <td>0</td>\n",
       "      <td>1</td>\n",
       "      <td>1</td>\n",
       "      <td>4.632922</td>\n",
       "    </tr>\n",
       "    <tr>\n",
       "      <th>1</th>\n",
       "      <td>1</td>\n",
       "      <td>1</td>\n",
       "      <td>3</td>\n",
       "      <td>4.152233</td>\n",
       "    </tr>\n",
       "  </tbody>\n",
       "</table>\n",
       "</div>"
      ],
      "text/plain": [
       "   Unnamed: 0  userId  movieId  estimatedrating\n",
       "0           0       1        1         4.632922\n",
       "1           1       1        3         4.152233"
      ]
     },
     "execution_count": 2,
     "metadata": {},
     "output_type": "execute_result"
    }
   ],
   "source": [
    "#Read the saved 'estimated' file which is a dataframe containing predicted movie ratings\n",
    "est = pd.read_csv('estimated')\n",
    "est.head(2)"
   ]
  },
  {
   "cell_type": "code",
   "execution_count": 3,
   "metadata": {},
   "outputs": [],
   "source": [
    "est.drop(['Unnamed: 0'], axis=1, inplace=True)"
   ]
  },
  {
   "cell_type": "code",
   "execution_count": 4,
   "metadata": {},
   "outputs": [
    {
     "name": "stdout",
     "output_type": "stream",
     "text": [
      "<class 'pandas.core.frame.DataFrame'>\n",
      "RangeIndex: 230078 entries, 0 to 230077\n",
      "Data columns (total 3 columns):\n",
      "userId             230078 non-null int64\n",
      "movieId            230078 non-null int64\n",
      "estimatedrating    230078 non-null float64\n",
      "dtypes: float64(1), int64(2)\n",
      "memory usage: 5.3 MB\n"
     ]
    }
   ],
   "source": [
    "est.info()"
   ]
  },
  {
   "cell_type": "code",
   "execution_count": 5,
   "metadata": {},
   "outputs": [
    {
     "data": {
      "text/plain": [
       "userId             0\n",
       "movieId            0\n",
       "estimatedrating    0\n",
       "dtype: int64"
      ]
     },
     "execution_count": 5,
     "metadata": {},
     "output_type": "execute_result"
    }
   ],
   "source": [
    "est.isna().sum()"
   ]
  },
  {
   "cell_type": "code",
   "execution_count": 6,
   "metadata": {},
   "outputs": [
    {
     "data": {
      "text/plain": [
       "userId                134\n",
       "movieId              1717\n",
       "estimatedrating    229844\n",
       "dtype: int64"
      ]
     },
     "execution_count": 6,
     "metadata": {},
     "output_type": "execute_result"
    }
   ],
   "source": [
    "est.nunique()"
   ]
  },
  {
   "cell_type": "code",
   "execution_count": 7,
   "metadata": {},
   "outputs": [
    {
     "name": "stderr",
     "output_type": "stream",
     "text": [
      "/Users/adinasteinman/opt/anaconda3/envs/learn-env/lib/python3.6/site-packages/IPython/core/interactiveshell.py:2714: DtypeWarning: Columns (6) have mixed types. Specify dtype option on import or set low_memory=False.\n",
      "  interactivity=interactivity, compiler=compiler, result=result)\n"
     ]
    },
    {
     "data": {
      "text/html": [
       "<div>\n",
       "<style scoped>\n",
       "    .dataframe tbody tr th:only-of-type {\n",
       "        vertical-align: middle;\n",
       "    }\n",
       "\n",
       "    .dataframe tbody tr th {\n",
       "        vertical-align: top;\n",
       "    }\n",
       "\n",
       "    .dataframe thead th {\n",
       "        text-align: right;\n",
       "    }\n",
       "</style>\n",
       "<table border=\"1\" class=\"dataframe\">\n",
       "  <thead>\n",
       "    <tr style=\"text-align: right;\">\n",
       "      <th></th>\n",
       "      <th>Unnamed: 0</th>\n",
       "      <th>userId</th>\n",
       "      <th>movieId</th>\n",
       "      <th>rating</th>\n",
       "      <th>title</th>\n",
       "      <th>genres</th>\n",
       "      <th>year</th>\n",
       "      <th>Mystery</th>\n",
       "      <th>Drama</th>\n",
       "      <th>IMAX</th>\n",
       "      <th>...</th>\n",
       "      <th>Musical</th>\n",
       "      <th>Children</th>\n",
       "      <th>Romance</th>\n",
       "      <th>Thriller</th>\n",
       "      <th>Horror</th>\n",
       "      <th>War</th>\n",
       "      <th>Fantasy</th>\n",
       "      <th>(no genres listed)</th>\n",
       "      <th>Documentary</th>\n",
       "      <th>Crime</th>\n",
       "    </tr>\n",
       "  </thead>\n",
       "  <tbody>\n",
       "    <tr>\n",
       "      <th>0</th>\n",
       "      <td>0</td>\n",
       "      <td>1</td>\n",
       "      <td>1</td>\n",
       "      <td>4.0</td>\n",
       "      <td>Toy Story (1995)</td>\n",
       "      <td>Adventure|Animation|Children|Comedy|Fantasy</td>\n",
       "      <td>1995</td>\n",
       "      <td>False</td>\n",
       "      <td>False</td>\n",
       "      <td>False</td>\n",
       "      <td>...</td>\n",
       "      <td>False</td>\n",
       "      <td>True</td>\n",
       "      <td>False</td>\n",
       "      <td>False</td>\n",
       "      <td>False</td>\n",
       "      <td>False</td>\n",
       "      <td>True</td>\n",
       "      <td>False</td>\n",
       "      <td>False</td>\n",
       "      <td>False</td>\n",
       "    </tr>\n",
       "    <tr>\n",
       "      <th>1</th>\n",
       "      <td>1</td>\n",
       "      <td>1</td>\n",
       "      <td>3</td>\n",
       "      <td>4.0</td>\n",
       "      <td>Grumpier Old Men (1995)</td>\n",
       "      <td>Comedy|Romance</td>\n",
       "      <td>1995</td>\n",
       "      <td>False</td>\n",
       "      <td>False</td>\n",
       "      <td>False</td>\n",
       "      <td>...</td>\n",
       "      <td>False</td>\n",
       "      <td>False</td>\n",
       "      <td>True</td>\n",
       "      <td>False</td>\n",
       "      <td>False</td>\n",
       "      <td>False</td>\n",
       "      <td>False</td>\n",
       "      <td>False</td>\n",
       "      <td>False</td>\n",
       "      <td>False</td>\n",
       "    </tr>\n",
       "  </tbody>\n",
       "</table>\n",
       "<p>2 rows × 27 columns</p>\n",
       "</div>"
      ],
      "text/plain": [
       "   Unnamed: 0  userId  movieId  rating                    title  \\\n",
       "0           0       1        1     4.0         Toy Story (1995)   \n",
       "1           1       1        3     4.0  Grumpier Old Men (1995)   \n",
       "\n",
       "                                        genres  year  Mystery  Drama   IMAX  \\\n",
       "0  Adventure|Animation|Children|Comedy|Fantasy  1995    False  False  False   \n",
       "1                               Comedy|Romance  1995    False  False  False   \n",
       "\n",
       "   ...  Musical  Children  Romance  Thriller  Horror    War  Fantasy  \\\n",
       "0  ...    False      True    False     False   False  False     True   \n",
       "1  ...    False     False     True     False   False  False    False   \n",
       "\n",
       "   (no genres listed)  Documentary  Crime  \n",
       "0               False        False  False  \n",
       "1               False        False  False  \n",
       "\n",
       "[2 rows x 27 columns]"
      ]
     },
     "execution_count": 7,
     "metadata": {},
     "output_type": "execute_result"
    }
   ],
   "source": [
    "act = pd.read_csv('cleaneddata')\n",
    "act.head(2)"
   ]
  },
  {
   "cell_type": "code",
   "execution_count": 8,
   "metadata": {},
   "outputs": [],
   "source": [
    "act.drop(['Unnamed: 0'], axis=1, inplace=True)"
   ]
  },
  {
   "cell_type": "code",
   "execution_count": 9,
   "metadata": {},
   "outputs": [
    {
     "name": "stdout",
     "output_type": "stream",
     "text": [
      "<class 'pandas.core.frame.DataFrame'>\n",
      "RangeIndex: 100819 entries, 0 to 100818\n",
      "Data columns (total 26 columns):\n",
      "userId                100819 non-null int64\n",
      "movieId               100819 non-null int64\n",
      "rating                100819 non-null float64\n",
      "title                 100819 non-null object\n",
      "genres                100819 non-null object\n",
      "year                  100819 non-null object\n",
      "Mystery               100819 non-null bool\n",
      "Drama                 100819 non-null bool\n",
      "IMAX                  100819 non-null bool\n",
      "Animation             100819 non-null bool\n",
      "Western               100819 non-null bool\n",
      "Film-Noir             100819 non-null bool\n",
      "Comedy                100819 non-null bool\n",
      "Action                100819 non-null bool\n",
      "Sci-Fi                100819 non-null bool\n",
      "Adventure             100819 non-null bool\n",
      "Musical               100819 non-null bool\n",
      "Children              100819 non-null bool\n",
      "Romance               100819 non-null bool\n",
      "Thriller              100819 non-null bool\n",
      "Horror                100819 non-null bool\n",
      "War                   100819 non-null bool\n",
      "Fantasy               100819 non-null bool\n",
      "(no genres listed)    100819 non-null bool\n",
      "Documentary           100819 non-null bool\n",
      "Crime                 100819 non-null bool\n",
      "dtypes: bool(20), float64(1), int64(2), object(3)\n",
      "memory usage: 6.5+ MB\n"
     ]
    }
   ],
   "source": [
    "act.info()"
   ]
  },
  {
   "cell_type": "code",
   "execution_count": 10,
   "metadata": {},
   "outputs": [
    {
     "data": {
      "text/plain": [
       "userId                0\n",
       "movieId               0\n",
       "rating                0\n",
       "title                 0\n",
       "genres                0\n",
       "year                  0\n",
       "Mystery               0\n",
       "Drama                 0\n",
       "IMAX                  0\n",
       "Animation             0\n",
       "Western               0\n",
       "Film-Noir             0\n",
       "Comedy                0\n",
       "Action                0\n",
       "Sci-Fi                0\n",
       "Adventure             0\n",
       "Musical               0\n",
       "Children              0\n",
       "Romance               0\n",
       "Thriller              0\n",
       "Horror                0\n",
       "War                   0\n",
       "Fantasy               0\n",
       "(no genres listed)    0\n",
       "Documentary           0\n",
       "Crime                 0\n",
       "dtype: int64"
      ]
     },
     "execution_count": 10,
     "metadata": {},
     "output_type": "execute_result"
    }
   ],
   "source": [
    "act.isna().sum()"
   ]
  },
  {
   "cell_type": "code",
   "execution_count": 11,
   "metadata": {},
   "outputs": [
    {
     "data": {
      "text/plain": [
       "userId                 610\n",
       "movieId               9712\n",
       "rating                  10\n",
       "title                 9707\n",
       "genres                 951\n",
       "year                   209\n",
       "Mystery                  2\n",
       "Drama                    2\n",
       "IMAX                     2\n",
       "Animation                2\n",
       "Western                  2\n",
       "Film-Noir                2\n",
       "Comedy                   2\n",
       "Action                   2\n",
       "Sci-Fi                   2\n",
       "Adventure                2\n",
       "Musical                  2\n",
       "Children                 2\n",
       "Romance                  2\n",
       "Thriller                 2\n",
       "Horror                   2\n",
       "War                      2\n",
       "Fantasy                  2\n",
       "(no genres listed)       2\n",
       "Documentary              2\n",
       "Crime                    2\n",
       "dtype: int64"
      ]
     },
     "execution_count": 11,
     "metadata": {},
     "output_type": "execute_result"
    }
   ],
   "source": [
    "act.nunique()"
   ]
  },
  {
   "cell_type": "markdown",
   "metadata": {},
   "source": [
    "First want to look at EDA differences between the actual user ratings vs the model predicted ratings."
   ]
  },
  {
   "cell_type": "code",
   "execution_count": 12,
   "metadata": {},
   "outputs": [],
   "source": [
    "df_inner = act.merge(est, how='inner')"
   ]
  },
  {
   "cell_type": "code",
   "execution_count": 13,
   "metadata": {},
   "outputs": [
    {
     "data": {
      "text/html": [
       "<div>\n",
       "<style scoped>\n",
       "    .dataframe tbody tr th:only-of-type {\n",
       "        vertical-align: middle;\n",
       "    }\n",
       "\n",
       "    .dataframe tbody tr th {\n",
       "        vertical-align: top;\n",
       "    }\n",
       "\n",
       "    .dataframe thead th {\n",
       "        text-align: right;\n",
       "    }\n",
       "</style>\n",
       "<table border=\"1\" class=\"dataframe\">\n",
       "  <thead>\n",
       "    <tr style=\"text-align: right;\">\n",
       "      <th></th>\n",
       "      <th>userId</th>\n",
       "      <th>movieId</th>\n",
       "      <th>rating</th>\n",
       "      <th>title</th>\n",
       "      <th>genres</th>\n",
       "      <th>year</th>\n",
       "      <th>Mystery</th>\n",
       "      <th>Drama</th>\n",
       "      <th>IMAX</th>\n",
       "      <th>Animation</th>\n",
       "      <th>...</th>\n",
       "      <th>Children</th>\n",
       "      <th>Romance</th>\n",
       "      <th>Thriller</th>\n",
       "      <th>Horror</th>\n",
       "      <th>War</th>\n",
       "      <th>Fantasy</th>\n",
       "      <th>(no genres listed)</th>\n",
       "      <th>Documentary</th>\n",
       "      <th>Crime</th>\n",
       "      <th>estimatedrating</th>\n",
       "    </tr>\n",
       "  </thead>\n",
       "  <tbody>\n",
       "    <tr>\n",
       "      <th>0</th>\n",
       "      <td>1</td>\n",
       "      <td>1</td>\n",
       "      <td>4.0</td>\n",
       "      <td>Toy Story (1995)</td>\n",
       "      <td>Adventure|Animation|Children|Comedy|Fantasy</td>\n",
       "      <td>1995</td>\n",
       "      <td>False</td>\n",
       "      <td>False</td>\n",
       "      <td>False</td>\n",
       "      <td>True</td>\n",
       "      <td>...</td>\n",
       "      <td>True</td>\n",
       "      <td>False</td>\n",
       "      <td>False</td>\n",
       "      <td>False</td>\n",
       "      <td>False</td>\n",
       "      <td>True</td>\n",
       "      <td>False</td>\n",
       "      <td>False</td>\n",
       "      <td>False</td>\n",
       "      <td>4.632922</td>\n",
       "    </tr>\n",
       "    <tr>\n",
       "      <th>1</th>\n",
       "      <td>1</td>\n",
       "      <td>3</td>\n",
       "      <td>4.0</td>\n",
       "      <td>Grumpier Old Men (1995)</td>\n",
       "      <td>Comedy|Romance</td>\n",
       "      <td>1995</td>\n",
       "      <td>False</td>\n",
       "      <td>False</td>\n",
       "      <td>False</td>\n",
       "      <td>False</td>\n",
       "      <td>...</td>\n",
       "      <td>False</td>\n",
       "      <td>True</td>\n",
       "      <td>False</td>\n",
       "      <td>False</td>\n",
       "      <td>False</td>\n",
       "      <td>False</td>\n",
       "      <td>False</td>\n",
       "      <td>False</td>\n",
       "      <td>False</td>\n",
       "      <td>4.152233</td>\n",
       "    </tr>\n",
       "    <tr>\n",
       "      <th>2</th>\n",
       "      <td>1</td>\n",
       "      <td>6</td>\n",
       "      <td>4.0</td>\n",
       "      <td>Heat (1995)</td>\n",
       "      <td>Action|Crime|Thriller</td>\n",
       "      <td>1995</td>\n",
       "      <td>False</td>\n",
       "      <td>False</td>\n",
       "      <td>False</td>\n",
       "      <td>False</td>\n",
       "      <td>...</td>\n",
       "      <td>False</td>\n",
       "      <td>False</td>\n",
       "      <td>True</td>\n",
       "      <td>False</td>\n",
       "      <td>False</td>\n",
       "      <td>False</td>\n",
       "      <td>False</td>\n",
       "      <td>False</td>\n",
       "      <td>True</td>\n",
       "      <td>4.448988</td>\n",
       "    </tr>\n",
       "    <tr>\n",
       "      <th>3</th>\n",
       "      <td>1</td>\n",
       "      <td>47</td>\n",
       "      <td>5.0</td>\n",
       "      <td>Seven (a.k.a. Se7en) (1995)</td>\n",
       "      <td>Mystery|Thriller</td>\n",
       "      <td>1995</td>\n",
       "      <td>True</td>\n",
       "      <td>False</td>\n",
       "      <td>False</td>\n",
       "      <td>False</td>\n",
       "      <td>...</td>\n",
       "      <td>False</td>\n",
       "      <td>False</td>\n",
       "      <td>True</td>\n",
       "      <td>False</td>\n",
       "      <td>False</td>\n",
       "      <td>False</td>\n",
       "      <td>False</td>\n",
       "      <td>False</td>\n",
       "      <td>False</td>\n",
       "      <td>4.598402</td>\n",
       "    </tr>\n",
       "    <tr>\n",
       "      <th>4</th>\n",
       "      <td>1</td>\n",
       "      <td>50</td>\n",
       "      <td>5.0</td>\n",
       "      <td>Usual Suspects, The (1995)</td>\n",
       "      <td>Crime|Mystery|Thriller</td>\n",
       "      <td>1995</td>\n",
       "      <td>True</td>\n",
       "      <td>False</td>\n",
       "      <td>False</td>\n",
       "      <td>False</td>\n",
       "      <td>...</td>\n",
       "      <td>False</td>\n",
       "      <td>False</td>\n",
       "      <td>True</td>\n",
       "      <td>False</td>\n",
       "      <td>False</td>\n",
       "      <td>False</td>\n",
       "      <td>False</td>\n",
       "      <td>False</td>\n",
       "      <td>True</td>\n",
       "      <td>4.721696</td>\n",
       "    </tr>\n",
       "    <tr>\n",
       "      <th>...</th>\n",
       "      <td>...</td>\n",
       "      <td>...</td>\n",
       "      <td>...</td>\n",
       "      <td>...</td>\n",
       "      <td>...</td>\n",
       "      <td>...</td>\n",
       "      <td>...</td>\n",
       "      <td>...</td>\n",
       "      <td>...</td>\n",
       "      <td>...</td>\n",
       "      <td>...</td>\n",
       "      <td>...</td>\n",
       "      <td>...</td>\n",
       "      <td>...</td>\n",
       "      <td>...</td>\n",
       "      <td>...</td>\n",
       "      <td>...</td>\n",
       "      <td>...</td>\n",
       "      <td>...</td>\n",
       "      <td>...</td>\n",
       "      <td>...</td>\n",
       "    </tr>\n",
       "    <tr>\n",
       "      <th>47227</th>\n",
       "      <td>610</td>\n",
       "      <td>152081</td>\n",
       "      <td>4.0</td>\n",
       "      <td>Zootopia (2016)</td>\n",
       "      <td>Action|Adventure|Animation|Children|Comedy</td>\n",
       "      <td>2016</td>\n",
       "      <td>False</td>\n",
       "      <td>False</td>\n",
       "      <td>False</td>\n",
       "      <td>True</td>\n",
       "      <td>...</td>\n",
       "      <td>True</td>\n",
       "      <td>False</td>\n",
       "      <td>False</td>\n",
       "      <td>False</td>\n",
       "      <td>False</td>\n",
       "      <td>False</td>\n",
       "      <td>False</td>\n",
       "      <td>False</td>\n",
       "      <td>False</td>\n",
       "      <td>4.082546</td>\n",
       "    </tr>\n",
       "    <tr>\n",
       "      <th>47228</th>\n",
       "      <td>610</td>\n",
       "      <td>158238</td>\n",
       "      <td>5.0</td>\n",
       "      <td>The Nice Guys (2016)</td>\n",
       "      <td>Crime|Mystery|Thriller</td>\n",
       "      <td>2016</td>\n",
       "      <td>True</td>\n",
       "      <td>False</td>\n",
       "      <td>False</td>\n",
       "      <td>False</td>\n",
       "      <td>...</td>\n",
       "      <td>False</td>\n",
       "      <td>False</td>\n",
       "      <td>True</td>\n",
       "      <td>False</td>\n",
       "      <td>False</td>\n",
       "      <td>False</td>\n",
       "      <td>False</td>\n",
       "      <td>False</td>\n",
       "      <td>True</td>\n",
       "      <td>4.458478</td>\n",
       "    </tr>\n",
       "    <tr>\n",
       "      <th>47229</th>\n",
       "      <td>610</td>\n",
       "      <td>164179</td>\n",
       "      <td>5.0</td>\n",
       "      <td>Arrival (2016)</td>\n",
       "      <td>Sci-Fi</td>\n",
       "      <td>2016</td>\n",
       "      <td>False</td>\n",
       "      <td>False</td>\n",
       "      <td>False</td>\n",
       "      <td>False</td>\n",
       "      <td>...</td>\n",
       "      <td>False</td>\n",
       "      <td>False</td>\n",
       "      <td>False</td>\n",
       "      <td>False</td>\n",
       "      <td>False</td>\n",
       "      <td>False</td>\n",
       "      <td>False</td>\n",
       "      <td>False</td>\n",
       "      <td>False</td>\n",
       "      <td>4.097685</td>\n",
       "    </tr>\n",
       "    <tr>\n",
       "      <th>47230</th>\n",
       "      <td>610</td>\n",
       "      <td>166528</td>\n",
       "      <td>4.0</td>\n",
       "      <td>Rogue One: A Star Wars Story (2016)</td>\n",
       "      <td>Action|Adventure|Fantasy|Sci-Fi</td>\n",
       "      <td>2016</td>\n",
       "      <td>False</td>\n",
       "      <td>False</td>\n",
       "      <td>False</td>\n",
       "      <td>False</td>\n",
       "      <td>...</td>\n",
       "      <td>False</td>\n",
       "      <td>False</td>\n",
       "      <td>False</td>\n",
       "      <td>False</td>\n",
       "      <td>False</td>\n",
       "      <td>True</td>\n",
       "      <td>False</td>\n",
       "      <td>False</td>\n",
       "      <td>False</td>\n",
       "      <td>4.341146</td>\n",
       "    </tr>\n",
       "    <tr>\n",
       "      <th>47231</th>\n",
       "      <td>610</td>\n",
       "      <td>168252</td>\n",
       "      <td>5.0</td>\n",
       "      <td>Logan (2017)</td>\n",
       "      <td>Action|Sci-Fi</td>\n",
       "      <td>2017</td>\n",
       "      <td>False</td>\n",
       "      <td>False</td>\n",
       "      <td>False</td>\n",
       "      <td>False</td>\n",
       "      <td>...</td>\n",
       "      <td>False</td>\n",
       "      <td>False</td>\n",
       "      <td>False</td>\n",
       "      <td>False</td>\n",
       "      <td>False</td>\n",
       "      <td>False</td>\n",
       "      <td>False</td>\n",
       "      <td>False</td>\n",
       "      <td>False</td>\n",
       "      <td>4.673028</td>\n",
       "    </tr>\n",
       "  </tbody>\n",
       "</table>\n",
       "<p>47232 rows × 27 columns</p>\n",
       "</div>"
      ],
      "text/plain": [
       "       userId  movieId  rating                                title  \\\n",
       "0           1        1     4.0                     Toy Story (1995)   \n",
       "1           1        3     4.0              Grumpier Old Men (1995)   \n",
       "2           1        6     4.0                          Heat (1995)   \n",
       "3           1       47     5.0          Seven (a.k.a. Se7en) (1995)   \n",
       "4           1       50     5.0           Usual Suspects, The (1995)   \n",
       "...       ...      ...     ...                                  ...   \n",
       "47227     610   152081     4.0                      Zootopia (2016)   \n",
       "47228     610   158238     5.0                 The Nice Guys (2016)   \n",
       "47229     610   164179     5.0                       Arrival (2016)   \n",
       "47230     610   166528     4.0  Rogue One: A Star Wars Story (2016)   \n",
       "47231     610   168252     5.0                         Logan (2017)   \n",
       "\n",
       "                                            genres  year  Mystery  Drama  \\\n",
       "0      Adventure|Animation|Children|Comedy|Fantasy  1995    False  False   \n",
       "1                                   Comedy|Romance  1995    False  False   \n",
       "2                            Action|Crime|Thriller  1995    False  False   \n",
       "3                                 Mystery|Thriller  1995     True  False   \n",
       "4                           Crime|Mystery|Thriller  1995     True  False   \n",
       "...                                            ...   ...      ...    ...   \n",
       "47227   Action|Adventure|Animation|Children|Comedy  2016    False  False   \n",
       "47228                       Crime|Mystery|Thriller  2016     True  False   \n",
       "47229                                       Sci-Fi  2016    False  False   \n",
       "47230              Action|Adventure|Fantasy|Sci-Fi  2016    False  False   \n",
       "47231                                Action|Sci-Fi  2017    False  False   \n",
       "\n",
       "        IMAX  Animation  ...  Children  Romance  Thriller  Horror    War  \\\n",
       "0      False       True  ...      True    False     False   False  False   \n",
       "1      False      False  ...     False     True     False   False  False   \n",
       "2      False      False  ...     False    False      True   False  False   \n",
       "3      False      False  ...     False    False      True   False  False   \n",
       "4      False      False  ...     False    False      True   False  False   \n",
       "...      ...        ...  ...       ...      ...       ...     ...    ...   \n",
       "47227  False       True  ...      True    False     False   False  False   \n",
       "47228  False      False  ...     False    False      True   False  False   \n",
       "47229  False      False  ...     False    False     False   False  False   \n",
       "47230  False      False  ...     False    False     False   False  False   \n",
       "47231  False      False  ...     False    False     False   False  False   \n",
       "\n",
       "       Fantasy  (no genres listed)  Documentary  Crime  estimatedrating  \n",
       "0         True               False        False  False         4.632922  \n",
       "1        False               False        False  False         4.152233  \n",
       "2        False               False        False   True         4.448988  \n",
       "3        False               False        False  False         4.598402  \n",
       "4        False               False        False   True         4.721696  \n",
       "...        ...                 ...          ...    ...              ...  \n",
       "47227    False               False        False  False         4.082546  \n",
       "47228    False               False        False   True         4.458478  \n",
       "47229    False               False        False  False         4.097685  \n",
       "47230     True               False        False  False         4.341146  \n",
       "47231    False               False        False  False         4.673028  \n",
       "\n",
       "[47232 rows x 27 columns]"
      ]
     },
     "execution_count": 13,
     "metadata": {},
     "output_type": "execute_result"
    }
   ],
   "source": [
    "df_inner"
   ]
  },
  {
   "cell_type": "code",
   "execution_count": 14,
   "metadata": {},
   "outputs": [
    {
     "data": {
      "text/plain": [
       "title\n",
       "Ran (1985)                                 4.485306\n",
       "Yojimbo (1961)                             4.454763\n",
       "Paths of Glory (1957)                      4.429585\n",
       "Shawshank Redemption, The (1994)           4.402448\n",
       "12 Angry Men (1957)                        4.400826\n",
       "                                             ...   \n",
       "Problem Child (1990)                       1.857234\n",
       "Honey, I Blew Up the Kid (1992)            1.851089\n",
       "Superman IV: The Quest for Peace (1987)    1.759806\n",
       "Battlefield Earth (2000)                   1.668999\n",
       "Speed 2: Cruise Control (1997)             1.630999\n",
       "Name: estimatedrating, Length: 1717, dtype: float64"
      ]
     },
     "execution_count": 14,
     "metadata": {},
     "output_type": "execute_result"
    }
   ],
   "source": [
    "df_inner.groupby('title').mean()['estimatedrating'].sort_values(ascending=False)"
   ]
  },
  {
   "cell_type": "code",
   "execution_count": 15,
   "metadata": {
    "scrolled": false
   },
   "outputs": [
    {
     "name": "stderr",
     "output_type": "stream",
     "text": [
      "/Users/adinasteinman/opt/anaconda3/envs/learn-env/lib/python3.6/site-packages/seaborn/_decorators.py:43: FutureWarning: Pass the following variables as keyword args: x, y. From version 0.12, the only valid positional argument will be `data`, and passing other arguments without an explicit keyword will result in an error or misinterpretation.\n",
      "  FutureWarning\n"
     ]
    },
    {
     "data": {
      "image/png": "[encoded data removed]",
      "text/plain": [
       "<Figure size 720x360 with 1 Axes>"
      ]
     },
     "metadata": {
      "needs_background": "light"
     },
     "output_type": "display_data"
    }
   ],
   "source": [
    "#Plot the top 10 predicted highest rated movies\n",
    "plt.figure(figsize=(10,5))\n",
    "topmovies = df_inner.groupby('title').mean()['estimatedrating'].sort_values(ascending=False).head(10)\n",
    "sns.barplot(topmovies.index, topmovies.values)\n",
    "plt.title('Top 10 Predicted Highest Rated Movies')\n",
    "plt.xticks(rotation=80);"
   ]
  },
  {
   "cell_type": "markdown",
   "metadata": {},
   "source": [
    "In terms of unpersonalized recommendations, we can suggest the top 10 highest rated movies based on model predictions"
   ]
  },
  {
   "cell_type": "code",
   "execution_count": 16,
   "metadata": {},
   "outputs": [
    {
     "data": {
      "image/png": "[encoded data removed]",
      "text/plain": [
       "<Figure size 432x288 with 1 Axes>"
      ]
     },
     "metadata": {
      "needs_background": "light"
     },
     "output_type": "display_data"
    }
   ],
   "source": [
    "#Plot a histogram of the frequency of certain estimated rating values\n",
    "plt.hist(df_inner['estimatedrating'],bins=30)\n",
    "plt.xlabel('Value of Estimated rating')\n",
    "plt.ylabel('Frequency of Estimated ratings')\n",
    "plt.show()"
   ]
  },
  {
   "cell_type": "markdown",
   "metadata": {},
   "source": [
    "Similar to the actual ratings, in that the peak frequency was about 4 as well and less values at the lower end\n",
    "(1, 2) etc."
   ]
  },
  {
   "cell_type": "code",
   "execution_count": 17,
   "metadata": {},
   "outputs": [
    {
     "data": {
      "text/plain": [
       "title\n",
       "Forrest Gump (1994)                                                   119\n",
       "Matrix, The (1999)                                                    113\n",
       "Star Wars: Episode IV - A New Hope (1977)                             111\n",
       "Star Wars: Episode V - The Empire Strikes Back (1980)                 107\n",
       "Pulp Fiction (1994)                                                   105\n",
       "                                                                     ... \n",
       "Around the World in 80 Days (1956)                                     11\n",
       "Englishman Who Went Up a Hill But Came Down a Mountain, The (1995)     11\n",
       "Enter the Dragon (1973)                                                11\n",
       "Purple Rose of Cairo, The (1985)                                       11\n",
       "Fantastic Beasts and Where to Find Them (2016)                         11\n",
       "Length: 1717, dtype: int64"
      ]
     },
     "execution_count": 17,
     "metadata": {},
     "output_type": "execute_result"
    }
   ],
   "source": [
    "df_inner.groupby('title').size().sort_values(ascending=False)"
   ]
  },
  {
   "cell_type": "code",
   "execution_count": 18,
   "metadata": {},
   "outputs": [
    {
     "name": "stderr",
     "output_type": "stream",
     "text": [
      "/Users/adinasteinman/opt/anaconda3/envs/learn-env/lib/python3.6/site-packages/seaborn/_decorators.py:43: FutureWarning: Pass the following variables as keyword args: x, y. From version 0.12, the only valid positional argument will be `data`, and passing other arguments without an explicit keyword will result in an error or misinterpretation.\n",
      "  FutureWarning\n"
     ]
    },
    {
     "data": {
      "image/png": "[encoded data removed]",
      "text/plain": [
       "<Figure size 720x360 with 1 Axes>"
      ]
     },
     "metadata": {
      "needs_background": "light"
     },
     "output_type": "display_data"
    }
   ],
   "source": [
    "#Plot the top 10 most watched movies\n",
    "plt.figure(figsize=(10,5))\n",
    "topmovies = df_inner.groupby('title').size().sort_values(ascending=False).head(10)\n",
    "sns.barplot(topmovies.index, topmovies.values)\n",
    "plt.title('Top 10 most-watched movies')\n",
    "plt.xticks(rotation=80);"
   ]
  },
  {
   "cell_type": "code",
   "execution_count": 19,
   "metadata": {},
   "outputs": [],
   "source": [
    "df_left = act.merge(est, how='outer')"
   ]
  },
  {
   "cell_type": "code",
   "execution_count": 20,
   "metadata": {},
   "outputs": [
    {
     "data": {
      "text/plain": [
       "userId                     0\n",
       "movieId                    0\n",
       "rating                182846\n",
       "title                 182846\n",
       "genres                182846\n",
       "year                  182846\n",
       "Mystery               182846\n",
       "Drama                 182846\n",
       "IMAX                  182846\n",
       "Animation             182846\n",
       "Western               182846\n",
       "Film-Noir             182846\n",
       "Comedy                182846\n",
       "Action                182846\n",
       "Sci-Fi                182846\n",
       "Adventure             182846\n",
       "Musical               182846\n",
       "Children              182846\n",
       "Romance               182846\n",
       "Thriller              182846\n",
       "Horror                182846\n",
       "War                   182846\n",
       "Fantasy               182846\n",
       "(no genres listed)    182846\n",
       "Documentary           182846\n",
       "Crime                 182846\n",
       "estimatedrating        53587\n",
       "dtype: int64"
      ]
     },
     "execution_count": 20,
     "metadata": {},
     "output_type": "execute_result"
    }
   ],
   "source": [
    "df_left.isna().sum()"
   ]
  },
  {
   "cell_type": "code",
   "execution_count": 21,
   "metadata": {},
   "outputs": [
    {
     "name": "stdout",
     "output_type": "stream",
     "text": [
      "<class 'pandas.core.frame.DataFrame'>\n",
      "Int64Index: 283665 entries, 0 to 283664\n",
      "Data columns (total 27 columns):\n",
      "userId                283665 non-null int64\n",
      "movieId               283665 non-null int64\n",
      "rating                100819 non-null float64\n",
      "title                 100819 non-null object\n",
      "genres                100819 non-null object\n",
      "year                  100819 non-null object\n",
      "Mystery               100819 non-null object\n",
      "Drama                 100819 non-null object\n",
      "IMAX                  100819 non-null object\n",
      "Animation             100819 non-null object\n",
      "Western               100819 non-null object\n",
      "Film-Noir             100819 non-null object\n",
      "Comedy                100819 non-null object\n",
      "Action                100819 non-null object\n",
      "Sci-Fi                100819 non-null object\n",
      "Adventure             100819 non-null object\n",
      "Musical               100819 non-null object\n",
      "Children              100819 non-null object\n",
      "Romance               100819 non-null object\n",
      "Thriller              100819 non-null object\n",
      "Horror                100819 non-null object\n",
      "War                   100819 non-null object\n",
      "Fantasy               100819 non-null object\n",
      "(no genres listed)    100819 non-null object\n",
      "Documentary           100819 non-null object\n",
      "Crime                 100819 non-null object\n",
      "estimatedrating       230078 non-null float64\n",
      "dtypes: float64(2), int64(2), object(23)\n",
      "memory usage: 60.6+ MB\n"
     ]
    }
   ],
   "source": [
    "df_left.info()"
   ]
  },
  {
   "cell_type": "code",
   "execution_count": null,
   "metadata": {},
   "outputs": [],
   "source": []
  }
 ],
 "metadata": {
  "kernelspec": {
   "display_name": "Python 3",
   "language": "python",
   "name": "python3"
  },
  "language_info": {
   "codemirror_mode": {
    "name": "ipython",
    "version": 3
   },
   "file_extension": ".py",
   "mimetype": "text/x-python",
   "name": "python",
   "nbconvert_exporter": "python",
   "pygments_lexer": "ipython3",
   "version": "3.6.9"
  }
 },
 "nbformat": 4,
 "nbformat_minor": 4
}
